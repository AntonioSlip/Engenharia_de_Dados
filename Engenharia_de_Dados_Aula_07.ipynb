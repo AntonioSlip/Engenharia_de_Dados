{
  "nbformat": 4,
  "nbformat_minor": 0,
  "metadata": {
    "colab": {
      "name": "Engenharia_de_Dados_Aula 07.ipynb",
      "provenance": [],
      "collapsed_sections": [],
      "include_colab_link": true
    },
    "kernelspec": {
      "name": "python3",
      "display_name": "Python 3"
    },
    "language_info": {
      "name": "python"
    }
  },
  "cells": [
    {
      "cell_type": "markdown",
      "metadata": {
        "id": "view-in-github",
        "colab_type": "text"
      },
      "source": [
        "<a href=\"https://colab.research.google.com/github/AntonioSlip/Engenharia_de_Dados/blob/main/Engenharia_de_Dados_Aula_07.ipynb\" target=\"_parent\"><img src=\"https://colab.research.google.com/assets/colab-badge.svg\" alt=\"Open In Colab\"/></a>"
      ]
    },
    {
      "cell_type": "markdown",
      "source": [
        "# ATIVIDADE DE OPERAÇÕES COM CONJUNTOS\n"
      ],
      "metadata": {
        "id": "TapM7NCP4ubG"
      }
    },
    {
      "cell_type": "markdown",
      "source": [
        "Crie um conjunto com os números de 1 a 10"
      ],
      "metadata": {
        "id": "GgjYap1M4va2"
      }
    },
    {
      "cell_type": "code",
      "execution_count": 3,
      "metadata": {
        "id": "xPQv_rNc4rUk",
        "colab": {
          "base_uri": "https://localhost:8080/"
        },
        "outputId": "99f441d6-f3b8-404d-d089-e8ec68e42da0"
      },
      "outputs": [
        {
          "output_type": "stream",
          "name": "stdout",
          "text": [
            "{1, 2, 3, 4, 5, 6, 7, 8, 9, 10}\n"
          ]
        }
      ],
      "source": [
        "conjunto1 = {1,2,3,4,5,6,7,8,9,10}\n",
        "print(conjunto1)"
      ]
    },
    {
      "cell_type": "markdown",
      "source": [
        "Use a função “set( )” para criar um conjunto com 10 letras do alfabeto"
      ],
      "metadata": {
        "id": "IZrF1ko847UR"
      }
    },
    {
      "cell_type": "code",
      "source": [
        "conjunto2 = set(\"abcdefghij\")\n",
        "print(conjunto2)"
      ],
      "metadata": {
        "id": "Ue5zDL4v49jC",
        "colab": {
          "base_uri": "https://localhost:8080/"
        },
        "outputId": "0a333cbe-8d80-43f0-a58a-e384e24eb84f"
      },
      "execution_count": 4,
      "outputs": [
        {
          "output_type": "stream",
          "name": "stdout",
          "text": [
            "{'c', 'd', 'i', 'g', 'h', 'b', 'f', 'e', 'a', 'j'}\n"
          ]
        }
      ]
    },
    {
      "cell_type": "markdown",
      "source": [
        "Crie um conjunto com os seguintes elementos “abfsdabfgasedass”, e em seguida imprima o tamanho do conjunto com uma mensagem amigável. Abaixe explique o porque do conjunto ter o tamanho informado por você e não 16"
      ],
      "metadata": {
        "id": "lxRN8Y7i49rP"
      }
    },
    {
      "cell_type": "code",
      "source": [
        "conjunto3 = set(\"abfsdabfgasedass\")\n",
        "print(conjunto3)\n",
        "print(f\"O tamanho do conjunto é: {len(conjunto3)}\")\n",
        "#Os conjuntos, quando tem elementos repetidos, são criados só com elementos não repetidos."
      ],
      "metadata": {
        "id": "wBydM9rS4_5I",
        "colab": {
          "base_uri": "https://localhost:8080/"
        },
        "outputId": "f99fe3c4-00a1-42b5-af40-565f14040ba9"
      },
      "execution_count": 8,
      "outputs": [
        {
          "output_type": "stream",
          "name": "stdout",
          "text": [
            "{'d', 'g', 'b', 'f', 'a', 'e', 's'}\n",
            "O tamanho do conjunto é: 7\n"
          ]
        }
      ]
    },
    {
      "cell_type": "markdown",
      "source": [
        "Realize a operação de união com os conjuntos a = {123456} e b={456789} e atribua a um conjunto ‘c’. Mostre na tela o conjunto formado e tamanho de cada conjunto individualmente, além do tamanho do conjunto ‘c’"
      ],
      "metadata": {
        "id": "Bt1S4qRd5ABu"
      }
    },
    {
      "cell_type": "code",
      "source": [
        "conjunto_A = {1,2,3,4,5,6}\n",
        "conjunto_B = {4,5,6,7,8,9}\n",
        "conjunto_C = conjunto_A.union(conjunto_B)\n",
        "print(f\"Conjunto A: {conjunto_A} Tamanho: {len(conjunto_A)}\")\n",
        "print(f\"Conjunto B: {conjunto_B} Tamanho: {len(conjunto_B)}\")\n",
        "print(f\"Conjunto C: {conjunto_C} Tamanho: {len(conjunto_C)}\")"
      ],
      "metadata": {
        "id": "VzVWjoeT5CP6",
        "colab": {
          "base_uri": "https://localhost:8080/"
        },
        "outputId": "bb14dd77-390a-45b6-89df-0be89e717d53"
      },
      "execution_count": 12,
      "outputs": [
        {
          "output_type": "stream",
          "name": "stdout",
          "text": [
            "Conjunto A: {1, 2, 3, 4, 5, 6} Tamanho: 6\n",
            "Conjunto B: {4, 5, 6, 7, 8, 9} Tamanho: 6\n",
            "Conjunto C: {1, 2, 3, 4, 5, 6, 7, 8, 9} Tamanho: 9\n"
          ]
        }
      ]
    },
    {
      "cell_type": "markdown",
      "source": [
        "Realize a operação de intersecção com os conjuntos a = {123456} e b={456789} e atribua a um conjunto ‘c’. Mostre na tela o conjunto formado e tamanho de cada conjunto individualmente, além do tamanho do conjunto ‘c’"
      ],
      "metadata": {
        "id": "-M4RnSlC5Ceu"
      }
    },
    {
      "cell_type": "code",
      "source": [
        "conjunto_A = {1,2,3,4,5,6}\n",
        "conjunto_B = {4,5,6,7,8,9}\n",
        "conjunto_C = conjunto_A.intersection(conjunto_B)\n",
        "print(f\"Conjunto A: {conjunto_A} Tamanho: {len(conjunto_A)}\")\n",
        "print(f\"Conjunto B: {conjunto_B} Tamanho: {len(conjunto_B)}\")\n",
        "print(f\"Conjunto C: {conjunto_C} Tamanho: {len(conjunto_C)}\")"
      ],
      "metadata": {
        "id": "Xpo7oPpV5FNv",
        "colab": {
          "base_uri": "https://localhost:8080/"
        },
        "outputId": "d4e26859-df94-4bf1-b7e1-8b2a7df830e6"
      },
      "execution_count": 14,
      "outputs": [
        {
          "output_type": "stream",
          "name": "stdout",
          "text": [
            "Conjunto A: {1, 2, 3, 4, 5, 6} Tamanho: 6\n",
            "Conjunto B: {4, 5, 6, 7, 8, 9} Tamanho: 6\n",
            "Conjunto C: {4, 5, 6} Tamanho: 3\n"
          ]
        }
      ]
    },
    {
      "cell_type": "markdown",
      "source": [
        "Realize a operação de diferença com os conjuntos a = {123456} e b={456789} e atribua a um conjunto ‘c’. Mostre na tela o conjunto formado e tamanho de cada conjunto individualmente, além do tamanho do conjunto ‘c’"
      ],
      "metadata": {
        "id": "AJRPIsci5FX3"
      }
    },
    {
      "cell_type": "code",
      "source": [
        "conjunto_A = {1,2,3,4,5,6}\n",
        "conjunto_B = {4,5,6,7,8,9}\n",
        "conjunto_C = conjunto_A.difference(conjunto_B)\n",
        "print(f\"Conjunto A: {conjunto_A} Tamanho: {len(conjunto_A)}\")\n",
        "print(f\"Conjunto B: {conjunto_B} Tamanho: {len(conjunto_B)}\")\n",
        "print(f\"Conjunto C: {conjunto_C} Tamanho: {len(conjunto_C)}\")"
      ],
      "metadata": {
        "id": "ius0o7XD5IXD",
        "colab": {
          "base_uri": "https://localhost:8080/"
        },
        "outputId": "ded99fe8-af2d-4d11-9b8b-47eeb8394005"
      },
      "execution_count": 15,
      "outputs": [
        {
          "output_type": "stream",
          "name": "stdout",
          "text": [
            "Conjunto A: {1, 2, 3, 4, 5, 6} Tamanho: 6\n",
            "Conjunto B: {4, 5, 6, 7, 8, 9} Tamanho: 6\n",
            "Conjunto C: {1, 2, 3} Tamanho: 3\n"
          ]
        }
      ]
    },
    {
      "cell_type": "markdown",
      "source": [
        "Vamos criar um jogo. Armazene seu nome completo em uma variável. Em seguida crie uma estrutura “while” que será executada enquanto o número de acertos do usuário for menor que 3. Dentro do “while” peça para o usuário informar uma letra, e verifique, usando a notação “in” do python, se essa letra está contida no seu nome, caso positivo adicione um ponto ao usuário, no final quando ele atingir 3 pontos encerre o loop"
      ],
      "metadata": {
        "id": "oiOvyv4U5ImH"
      }
    },
    {
      "cell_type": "code",
      "source": [
        "nome = \"antonio noberto albuquerque pereira de lima\"\n",
        "acertos = 0\n",
        "sair = False\n",
        "while(sair == False):\n",
        "  letra = input(\"Informe uma letra:\")\n",
        "  if letra in nome:\n",
        "    print(\"Você acertou! Ganhou 1 ponto!\")\n",
        "    acertos += 1\n",
        "    if acertos == 3:\n",
        "      sair = True\n",
        "      print(\"Você atingiu 3 pontos! Parabéns! Programa encerrado!\")\n",
        "  elif letra not in nome:\n",
        "    (print(\"Você errou! Continue tentando!\"))"
      ],
      "metadata": {
        "id": "xeoKIlt45Lwd",
        "colab": {
          "base_uri": "https://localhost:8080/"
        },
        "outputId": "8f8626b3-f451-449c-a533-da147f58cdf6"
      },
      "execution_count": 20,
      "outputs": [
        {
          "output_type": "stream",
          "name": "stdout",
          "text": [
            "Informe uma letra:a\n",
            "Você acertou! Ganhou 1 ponto!\n",
            "Informe uma letra:b\n",
            "Você acertou! Ganhou 1 ponto!\n",
            "Informe uma letra:c\n",
            "Você errou! Continue tentando!\n",
            "Informe uma letra:n\n",
            "Você acertou! Ganhou 1 ponto!\n",
            "Você atingiu 3 pontos! Parabéns! Programa encerrado!\n"
          ]
        }
      ]
    },
    {
      "cell_type": "markdown",
      "source": [
        "Adicione o elemento 3 ao conjunto s={2,1,5,8,9,3,4,0} e verifique o tamanho antes e depois da inserção; Diga o que mudou depois da inserção"
      ],
      "metadata": {
        "id": "2PHa4ecy5K4_"
      }
    },
    {
      "cell_type": "code",
      "source": [
        "conjunto_S = {2,1,5,8,9,3,4,0}\n",
        "print(f\"Conjunto S: {conjunto_S} Tamanho: {len(conjunto_S)}\")\n",
        "conjunto_S.add(3)\n",
        "print(f\"Conjunto S: {conjunto_S} Tamanho: {len(conjunto_S)}\")\n",
        "#Mudou nada, pois foi adicionado um elemento que já existia no conjunto e não foi aceito por ser repetido."
      ],
      "metadata": {
        "id": "oTpLiqaS5O3r",
        "colab": {
          "base_uri": "https://localhost:8080/"
        },
        "outputId": "edf6276b-812d-46f0-f4e8-dd61e1cf4cae"
      },
      "execution_count": 25,
      "outputs": [
        {
          "output_type": "stream",
          "name": "stdout",
          "text": [
            "Conjunto S: {0, 1, 2, 3, 4, 5, 8, 9} Tamanho: 8\n",
            "Conjunto S: {0, 1, 2, 3, 4, 5, 8, 9} Tamanho: 8\n"
          ]
        }
      ]
    },
    {
      "cell_type": "markdown",
      "source": [
        "Crie um laço de repetição para imprimir todos os elementos do conjunto acima"
      ],
      "metadata": {
        "id": "LwWN7VIg5PAA"
      }
    },
    {
      "cell_type": "code",
      "source": [
        "conjunto_S = {2,1,5,8,9,3,4,0}\n",
        "for i in conjunto_S:\n",
        "  print(i)"
      ],
      "metadata": {
        "id": "fT7X3WHj5RO-",
        "colab": {
          "base_uri": "https://localhost:8080/"
        },
        "outputId": "49ce4466-3797-49fc-b9bf-353517ab4060"
      },
      "execution_count": 49,
      "outputs": [
        {
          "output_type": "stream",
          "name": "stdout",
          "text": [
            "0\n",
            "1\n",
            "2\n",
            "3\n",
            "4\n",
            "5\n",
            "8\n",
            "9\n"
          ]
        }
      ]
    },
    {
      "cell_type": "markdown",
      "source": [
        "Com um laço, remova todos os elementos pares do conjunto acima"
      ],
      "metadata": {
        "id": "fDXrJgag5RWy"
      }
    },
    {
      "cell_type": "code",
      "source": [
        "conjunto_SS = {2,1,5,8,9,3,4,0}\n",
        "for i in conjunto_SS:\n",
        "  if i % 2 == 1:\n",
        "    print(i)"
      ],
      "metadata": {
        "id": "2n13Htu65TkM",
        "colab": {
          "base_uri": "https://localhost:8080/"
        },
        "outputId": "ecbe5712-4502-49f5-9536-60db8463d63e"
      },
      "execution_count": 68,
      "outputs": [
        {
          "output_type": "stream",
          "name": "stdout",
          "text": [
            "1\n",
            "3\n",
            "5\n",
            "9\n"
          ]
        }
      ]
    },
    {
      "cell_type": "markdown",
      "source": [
        "# ATIVIDADE DE OPERAÇÕES COM DICIONÁRIOS"
      ],
      "metadata": {
        "id": "sjgUoT8t5Tsy"
      }
    },
    {
      "cell_type": "markdown",
      "source": [
        "Crie um dicionário em vazio"
      ],
      "metadata": {
        "id": "Bhr00D7M5WzQ"
      }
    },
    {
      "cell_type": "code",
      "source": [
        "dicionario_vazio = {}\n",
        "print(f\"Dicionário Vázio = {dicionario_vazio}\")"
      ],
      "metadata": {
        "id": "UPo_KMxa5Y2_",
        "colab": {
          "base_uri": "https://localhost:8080/"
        },
        "outputId": "9241d2fb-86c0-4c57-acff-394e1a707510"
      },
      "execution_count": 71,
      "outputs": [
        {
          "output_type": "stream",
          "name": "stdout",
          "text": [
            "Dicionário Vázio = {}\n"
          ]
        }
      ]
    },
    {
      "cell_type": "markdown",
      "source": [
        "Crie um dicionário em que a chave seja um id de valor inteiro, e o valor seja o nome do usuário"
      ],
      "metadata": {
        "id": "OT7gdoCY5ZCd"
      }
    },
    {
      "cell_type": "code",
      "source": [
        "dicionario = {1: \"Antonio\"}\n",
        "print(dicionario)"
      ],
      "metadata": {
        "id": "ahXK2KDk5a71",
        "colab": {
          "base_uri": "https://localhost:8080/"
        },
        "outputId": "fad8943e-4ef9-40e5-ae38-23b56abc0e79"
      },
      "execution_count": 72,
      "outputs": [
        {
          "output_type": "stream",
          "name": "stdout",
          "text": [
            "{1: 'Antonio'}\n"
          ]
        }
      ]
    },
    {
      "cell_type": "markdown",
      "source": [
        "Crie um dicionário. crie a estrutura que descreva uma loja de um shopping center"
      ],
      "metadata": {
        "id": "0HvhUISb5bD3"
      }
    },
    {
      "cell_type": "code",
      "source": [
        "shopping_center = {\n",
        "    \"Estacionamento\": \"Pago\",\n",
        "    \"Varanda\": True,\n",
        "    \"Praça de Alimentação\": 2,\n",
        "    \"Lojas\": 20,\n",
        "    \"Banheiros\": 10,\n",
        "    \"Localização\": \"Centro da cidade\"\n",
        "}\n",
        "print(shopping_center)"
      ],
      "metadata": {
        "id": "7h7twK4X5daa",
        "colab": {
          "base_uri": "https://localhost:8080/"
        },
        "outputId": "e969fed1-03a0-42f8-a371-18546af61e4e"
      },
      "execution_count": 75,
      "outputs": [
        {
          "output_type": "stream",
          "name": "stdout",
          "text": [
            "{'Estacionamento': 'Pago', 'Varanda': True, 'Praça de Alimentação': 2, 'Lojas': 20, 'Banheiros': 10, 'Localização': 'Centro da cidade'}\n"
          ]
        }
      ]
    },
    {
      "cell_type": "markdown",
      "source": [
        "Dado o dicionário d = {123: “nome do cliente, “fone”: 999999999, “email”: “email@email.com” }, user o comando printo para imprimir cada dado desse cliente, um em cada linha"
      ],
      "metadata": {
        "id": "EqZ9m9jr5diw"
      }
    },
    {
      "cell_type": "code",
      "source": [
        "d = {123: \"Antonio\", \"fone\": 999999999, \"email\": \"antonio@gmail.com\"}\n",
        "print(f\"Nome: {d[123]} \\nTelefone: {d['fone']} \\nEmail: {d['email']}\")"
      ],
      "metadata": {
        "id": "icjEievQ5flQ",
        "colab": {
          "base_uri": "https://localhost:8080/"
        },
        "outputId": "3ce3d679-5ffe-4af7-ba65-c51f30cd1c77"
      },
      "execution_count": 77,
      "outputs": [
        {
          "output_type": "stream",
          "name": "stdout",
          "text": [
            "Nome: Antonio \n",
            "Telefone: 999999999 \n",
            "Email: antonio@gmail.com\n"
          ]
        }
      ]
    },
    {
      "cell_type": "markdown",
      "source": [
        "Crie um dicionário vazio, em seguida desenvolva a estrutura para descrever uma lista de usuário com seu “id” e seu login. Sendo “id” a chave um número inteiro. Crie 5 usuários"
      ],
      "metadata": {
        "id": "al0M2b5P5fti"
      }
    },
    {
      "cell_type": "code",
      "source": [
        "dicionario_1 = {}\n",
        "dicionario_2 = {}\n",
        "dicionario_3 = {}\n",
        "dicionario_4 = {}\n",
        "dicionario_5 = {}\n",
        "lista = []\n",
        "for i in range(1,6,1):\n",
        "  print(f\"Dados do usuário_{i}:\")\n",
        "  id = int(input(f\"Digite o ID:\"))\n",
        "  login = input(f\"Digite o login:\")\n",
        "  if len(dicionario_1) == 0:\n",
        "    dicionario_1[\"ID\"] = id\n",
        "    dicionario_1[\"Login\"] = login\n",
        "    lista.append(dicionario_1)\n",
        "  elif len(dicionario_2) == 0:\n",
        "    dicionario_2[\"ID\"] = id\n",
        "    dicionario_2[\"Login\"] = login\n",
        "    lista.append(dicionario_2)\n",
        "  elif len(dicionario_3) == 0:\n",
        "    dicionario_3[\"ID\"] = id\n",
        "    dicionario_3[\"Login\"] = login\n",
        "    lista.append(dicionario_3)\n",
        "  elif len(dicionario_4) == 0:\n",
        "    dicionario_4[\"ID\"] = id\n",
        "    dicionario_4[\"Login\"] = login\n",
        "    lista.append(dicionario_4)\n",
        "  elif len(dicionario_5) == 0:\n",
        "    dicionario_5[\"ID\"] = id\n",
        "    dicionario_5[\"Login\"] = login\n",
        "    lista.append(dicionario_5) \n",
        "print(f\"Lista de usuários: {lista}\")"
      ],
      "metadata": {
        "id": "PSXkjWJS5hu_",
        "colab": {
          "base_uri": "https://localhost:8080/"
        },
        "outputId": "a91d6cfa-8194-4591-ae1f-6b05f2bbab5b"
      },
      "execution_count": 84,
      "outputs": [
        {
          "output_type": "stream",
          "name": "stdout",
          "text": [
            "Dados do usuário_1:\n",
            "Digite o ID:1\n",
            "Digite o login:antonio\n",
            "Dados do usuário_2:\n",
            "Digite o ID:2\n",
            "Digite o login:breno\n",
            "Dados do usuário_3:\n",
            "Digite o ID:3\n",
            "Digite o login:bruno\n",
            "Dados do usuário_4:\n",
            "Digite o ID:4\n",
            "Digite o login:pedro\n",
            "Dados do usuário_5:\n",
            "Digite o ID:5\n",
            "Digite o login:paulo\n",
            "Lista de usuários: [{'ID': 1, 'Login': 'antonio'}, {'ID': 2, 'Login': 'breno'}, {'ID': 3, 'Login': 'bruno'}, {'ID': 4, 'Login': 'pedro'}, {'ID': 5, 'Login': 'paulo'}]\n"
          ]
        }
      ]
    },
    {
      "cell_type": "markdown",
      "source": [
        "Use o método get() para recuperar o nome de um cliente a partir do valor de sua chave"
      ],
      "metadata": {
        "id": "JgKP7JFn5h3S"
      }
    },
    {
      "cell_type": "code",
      "source": [
        "for i in lista:\n",
        "  if i.get('Login') == \"antonio\":\n",
        "    print(i)"
      ],
      "metadata": {
        "id": "qF45P9JD5jag",
        "colab": {
          "base_uri": "https://localhost:8080/"
        },
        "outputId": "1473858c-85f9-4f80-f8d7-1e6430897a0f"
      },
      "execution_count": 88,
      "outputs": [
        {
          "output_type": "stream",
          "name": "stdout",
          "text": [
            "{'ID': 1, 'Login': 'antonio'}\n"
          ]
        }
      ]
    },
    {
      "cell_type": "markdown",
      "source": [
        "Dados os dicionários pessoa = {“nome”: “jose”, “telefone”: 990099112233} e endereco = {“rua”: “um”, “numero”: 10, “estado”: “PE”}, una esses todos os dados apenas no dicionário pessoa"
      ],
      "metadata": {
        "id": "_nl_EiwN5jiV"
      }
    },
    {
      "cell_type": "code",
      "source": [
        "pessoa = {\"nome\": \"jose\", \"telefone\": 990099112233}\n",
        "endereco = {\"rua\": \"um\", \"numero\": 10, \"estado\": \"PE\"}\n",
        "print(pessoa)\n",
        "print(endereco)\n",
        "pessoa.update(endereco)\n",
        "print(pessoa)"
      ],
      "metadata": {
        "id": "mEyukYhT5lS0",
        "colab": {
          "base_uri": "https://localhost:8080/"
        },
        "outputId": "21e94559-ca56-4526-bf8a-3d20e0f948d7"
      },
      "execution_count": 90,
      "outputs": [
        {
          "output_type": "stream",
          "name": "stdout",
          "text": [
            "{'nome': 'jose', 'telefone': 990099112233}\n",
            "{'rua': 'um', 'numero': 10, 'estado': 'PE'}\n",
            "{'nome': 'jose', 'telefone': 990099112233, 'rua': 'um', 'numero': 10, 'estado': 'PE'}\n"
          ]
        }
      ]
    },
    {
      "cell_type": "markdown",
      "source": [
        "Dado o dicionário empresas = {1: “sadia”, 2: \"perdigão\", 3: “seara”, 4: “unilever”, 5: “ambev”}, faça um laço que mostre o par chave e valor de cada uma"
      ],
      "metadata": {
        "id": "N0LMEpca5lap"
      }
    },
    {
      "cell_type": "code",
      "source": [
        "empresas = {1: \"sadia\", 2: \"perdigão\", 3: \"seara\", 4: \"unilever\", 5: \"ambev\"}\n",
        "for chave, valor in empresas.items():\n",
        "  print(f\"A chave {chave} é valor {valor}\")"
      ],
      "metadata": {
        "id": "jAQHpb165noU",
        "colab": {
          "base_uri": "https://localhost:8080/"
        },
        "outputId": "9f7021bb-2d7b-475d-9a48-b16f28e5351b"
      },
      "execution_count": 91,
      "outputs": [
        {
          "output_type": "stream",
          "name": "stdout",
          "text": [
            "A chave 1 é valor sadia\n",
            "A chave 2 é valor perdigão\n",
            "A chave 3 é valor seara\n",
            "A chave 4 é valor unilever\n",
            "A chave 5 é valor ambev\n"
          ]
        }
      ]
    },
    {
      "cell_type": "markdown",
      "source": [
        "Crie um dicionário que represente as características de uma pessoa"
      ],
      "metadata": {
        "id": "CCm4_VN35nwY"
      }
    },
    {
      "cell_type": "code",
      "source": [
        "pessoa = {\n",
        "    \"nome\": \"Antonio\",\n",
        "    \"idade\": 35,\n",
        "    \"peso\": 100,\n",
        "    \"altura\": 1.77,\n",
        "    \"sexo\": \"masculino\"\n",
        "}\n",
        "print(pessoa)"
      ],
      "metadata": {
        "id": "TQWeodI_5pt8",
        "colab": {
          "base_uri": "https://localhost:8080/"
        },
        "outputId": "0101c7de-1400-4988-a7f6-75b1be1356ee"
      },
      "execution_count": 92,
      "outputs": [
        {
          "output_type": "stream",
          "name": "stdout",
          "text": [
            "{'nome': 'Antonio', 'idade': 35, 'peso': 100, 'altura': 1.77, 'sexo': 'masculino'}\n"
          ]
        }
      ]
    },
    {
      "cell_type": "markdown",
      "source": [
        "Crie um dicionário que represente um vídeo postado no YouTube"
      ],
      "metadata": {
        "id": "ZsKLUB705p3z"
      }
    },
    {
      "cell_type": "code",
      "source": [
        "video = {\n",
        "    \"visualizações\": 17.500,\n",
        "    \"inscritos\": 1.100,\n",
        "    \"comentários\": 5.350,\n",
        "    \"aovivo\": True\n",
        "}\n",
        "print(video)"
      ],
      "metadata": {
        "id": "HqKYKiPa5ruC",
        "colab": {
          "base_uri": "https://localhost:8080/"
        },
        "outputId": "ad52f7ed-1e6b-4a47-c613-896d0c111bdf"
      },
      "execution_count": 93,
      "outputs": [
        {
          "output_type": "stream",
          "name": "stdout",
          "text": [
            "{'visualizações': 17.5, 'inscritos': 1.1, 'comentários': 5.35, 'aovivo': True}\n"
          ]
        }
      ]
    }
  ]
}
{
  "nbformat": 4,
  "nbformat_minor": 0,
  "metadata": {
    "colab": {
      "name": "Engenharia_de_Dados_projeto-crud.ipynb",
      "provenance": [],
      "collapsed_sections": [],
      "include_colab_link": true
    },
    "kernelspec": {
      "name": "python3",
      "display_name": "Python 3"
    },
    "language_info": {
      "name": "python"
    }
  },
  "cells": [
    {
      "cell_type": "markdown",
      "metadata": {
        "id": "view-in-github",
        "colab_type": "text"
      },
      "source": [
        "<a href=\"https://colab.research.google.com/github/AntonioSlip/Engenharia_de_Dados/blob/main/Engenharia_de_Dados_projeto_crud.ipynb\" target=\"_parent\"><img src=\"https://colab.research.google.com/assets/colab-badge.svg\" alt=\"Open In Colab\"/></a>"
      ]
    },
    {
      "cell_type": "markdown",
      "source": [
        "# **Projeto** **Final**"
      ],
      "metadata": {
        "id": "_s36jdQpJfSy"
      }
    },
    {
      "cell_type": "markdown",
      "source": [
        "Baseado nas necessidades abaixo, desenvolva um software que implemente os seguites requisitos:\n",
        "\n",
        "* RF1 - O sistema deve conter um loop que solicite a ação do usuário sobre os seguintes aspectos:\n",
        " * 0 Para sair do sistema\n",
        " * 1 Para cadastrar um usuário\n",
        " * 2 Para consultar um usuário pelo ID\n",
        " * 3 Para listar todos os nomes cadastrados\n",
        " * 4 Para deletar um usuário pelo ID\n",
        " * 5 Para alterar um dado de um usuário ID. \n",
        "\n",
        " Esse loop deve permanecer rodando enquanto o usuário não decidir sair do programa.\n",
        "\n",
        " * RF1.1 Os dados de cada usuário devem ser armazenados em um dicionário, e todos os usuários devem ser armazenados numa lista de usuários. Este dicionário deve conter ID, nome, email e telefone;\n",
        "\n",
        "\n",
        "* RF2 - Caso o usuáro escolha o opção 0, o sistema deve imprimir na tela uma mensagem amistosa e encerrar o programa;\n",
        "\n",
        "\n",
        "* RF3 - Caso o usuário escolha a opção 1, o sistema deve solicitar que o usuário informe os dados para o cadastro\n",
        " * RF3.1 - Os dados devem ser armazenados em uma lista\n",
        " * RF3.2 - O aluno deve crial uma função para armazenar o nome do usuário na lista\n",
        "\n",
        "\n",
        "* RF4 - Caso o usuário escolha a opção 2, o sistema deve possibilitar a consulta do nome do usuário pelo ID\n",
        " * RF4.1 - os dados do usuário devem ser consultados na lista pelo ID cadastrado no dicionário \n",
        " * RF4.2 - O aluno deve criar uma função para consultar os dados do usuário\n",
        "\n",
        "\n",
        "* RF5 - Caso o usuário escolha a opção 3, o sistema deve  imprimir na tela o nome de todos os usuários cadastrados em uma mensagem amigável\n",
        "\n",
        "\n",
        "* RF6 - Caso o usuário escolha o apção 4 o sistema deve permitir que o usuário possa apagar um regisatro pelo ID\n",
        "RF6.1 - O aluno deve criar uma função para deletar os dados do usuário\n",
        "\n",
        "\n",
        "* RF7 - Caso o usuário escolha o opção 5. o sistema deve disponibilizar a opção de alterar os dados do usuário pelo seu ID\n",
        " * RF7.1 - O aluno deve criar uma função para alterar os dados do usuário\n",
        "\n",
        "Cada operaçao deve realizada por uma função específica:\n",
        "  * cadastrar()\n",
        "  * consultar(id)\n",
        "  * alterar(id) \n",
        "  * deletar(id) \n",
        "  * listar() "
      ],
      "metadata": {
        "id": "389FGcOcJeY4"
      }
    },
    {
      "cell_type": "code",
      "execution_count": null,
      "metadata": {
        "id": "ZWE5rKvYJN8-"
      },
      "outputs": [],
      "source": [
        "def cadastrar():\n",
        "  for i in range(0,1,1):\n",
        "    if len(usuarios) == 5:\n",
        "      print(f\"\\nNão é possível cadastrar mais de {len(usuarios)} usuários!\\n\")\n",
        "      break\n",
        "    else:\n",
        "      print(f\"\\nInforme os dados para o cadastro:\")\n",
        "      id = int(input(\"\\nDigite o ID:\"))\n",
        "      nome = input(\"Digite o nome:\")\n",
        "      email = input(\"Digite o email:\")\n",
        "      telefone = int(input(\"Digite o telefone:\"))\n",
        "      if len(usuario_1) == 0:\n",
        "        usuario_1[\"ID\"] = id\n",
        "        usuario_1[\"Nome\"] = nome\n",
        "        usuario_1[\"Email\"] = email\n",
        "        usuario_1[\"Telefone\"] = telefone\n",
        "        usuarios.append(usuario_1)\n",
        "        print(f\"\\nUsuário de ID-{id} cadastrado com sucesso!\\n\")\n",
        "        break\n",
        "      elif len(usuario_2) == 0:\n",
        "        usuario_2[\"ID\"] = id\n",
        "        usuario_2[\"Nome\"] = nome\n",
        "        usuario_2[\"Email\"] = email\n",
        "        usuario_2[\"Telefone\"] = telefone\n",
        "        usuarios.append(usuario_2)\n",
        "        print(f\"\\nUsuário de ID-{id} cadastrado com sucesso!\\n\")\n",
        "        break \n",
        "      elif len(usuario_3) == 0:\n",
        "        usuario_3[\"ID\"] = id\n",
        "        usuario_3[\"Nome\"] = nome\n",
        "        usuario_3[\"Email\"] = email\n",
        "        usuario_3[\"Telefone\"] = telefone\n",
        "        usuarios.append(usuario_3)\n",
        "        print(f\"\\nUsuário de ID-{id} cadastrado com sucesso!\\n\")\n",
        "        break\n",
        "      elif len(usuario_4) == 0:\n",
        "        usuario_4[\"ID\"] = id\n",
        "        usuario_4[\"Nome\"] = nome\n",
        "        usuario_4[\"Email\"] = email\n",
        "        usuario_4[\"Telefone\"] = telefone\n",
        "        usuarios.append(usuario_4)\n",
        "        print(f\"\\nUsuário de ID-{id} cadastrado com sucesso!\\n\")\n",
        "        break\n",
        "      elif len(usuario_5) == 0:\n",
        "        usuario_5[\"ID\"] = id\n",
        "        usuario_5[\"Nome\"] = nome\n",
        "        usuario_5[\"Email\"] = email\n",
        "        usuario_5[\"Telefone\"] = telefone\n",
        "        usuarios.append(usuario_5)\n",
        "        print(f\"\\nUsuário de ID-{id} cadastrado com sucesso!\\n\")\n",
        "        break      "
      ]
    },
    {
      "cell_type": "code",
      "source": [
        "def consultar(id):\n",
        "  for i in usuarios:\n",
        "    if id == i['ID']:\n",
        "      print(f\"\\nO Usuário é:\\n---------------------------------\\nNome: {i['Nome']}\\nID: {i['ID']}\\nEmail: {i['Email']}\\nTelefone: {i['Telefone']}\\n---------------------------------\\n\")\n",
        "      break\n",
        "  else:\n",
        "    print(f\"\\nUsuário não encontrado!\\n\")"
      ],
      "metadata": {
        "id": "nJzzOIOKA4iN"
      },
      "execution_count": null,
      "outputs": []
    },
    {
      "cell_type": "code",
      "source": [
        "def alterar(id):\n",
        "  for i in usuarios:\n",
        "    if id == i['ID']:\n",
        "      escolha = int(input(\"\\nEscolha qual dado deseja alterar: \\n(0):ID \\n(1):Nome \\n(2):Email \\n(3):Telefone \\n(4):Tudo\\n\"))\n",
        "      if escolha == 0:\n",
        "        id = int(input(\"\\nDigite o ID:\"))\n",
        "        i.update(ID = id)\n",
        "        print(f\"\\nID do usuário foi alterado com sucesso!\\n\")\n",
        "        break\n",
        "      if escolha == 1:\n",
        "        nome = input(\"\\nDigite o nome:\")\n",
        "        i.update(Nome = nome)\n",
        "        print(f\"\\nNome do usuário foi alterado com sucesso!\\n\")\n",
        "        break\n",
        "      elif escolha == 2:\n",
        "        email = input(\"\\nDigite o email:\")\n",
        "        i.update(Email = email)\n",
        "        print(f\"\\nEmail do usuário foi alterado com sucesso!\\n\")\n",
        "        break\n",
        "      if escolha == 3:\n",
        "        telefone = int(input(\"\\nDigite o telefone:\"))\n",
        "        i.update(Telefone = telefone)\n",
        "        print(f\"\\nTelefone do usuário foi alterado com sucesso!\\n\")\n",
        "        break\n",
        "      elif escolha == 4:\n",
        "        id = int(input(\"\\nDigite o ID:\"))\n",
        "        nome = input(\"\\nDigite o nome:\")\n",
        "        email = input(\"Digite o email:\")\n",
        "        telefone = int(input(\"Digite o telefone:\"))\n",
        "        i.update(ID = id, Nome = nome, Email = email, Telefone = telefone)\n",
        "        print(f\"\\nDados do usuário foram alterados com sucesso!\\n\")\n",
        "        break\n",
        "  else:\n",
        "    print(f\"\\nUsuário não encontrado!\\n\")"
      ],
      "metadata": {
        "id": "T7bH6keNf973"
      },
      "execution_count": null,
      "outputs": []
    },
    {
      "cell_type": "code",
      "source": [
        "def deletar(id):\n",
        "  for i in usuarios:\n",
        "    if id == i['ID']:\n",
        "      usuarios.remove(i)\n",
        "      i.clear()\n",
        "      print(f\"\\nO usuário de ID-{id} foi removido com sucesso!\\n\")\n",
        "      break\n",
        "  else:\n",
        "    print(f\"\\nUsuário não encontrado!\\n\")"
      ],
      "metadata": {
        "id": "N9weU96FgEXX"
      },
      "execution_count": null,
      "outputs": []
    },
    {
      "cell_type": "code",
      "source": [
        "def listar():\n",
        "  print(\"\\nOs usuarios cadastrados são:\\n\")\n",
        "  for i in usuarios:\n",
        "    if len(usuarios) != 0:\n",
        "      print(f\"---------------------------------\\nNome: {i['Nome']}\\nID: {i['ID']}\\nEmail: {i['Email']}\\nTelefone: {i['Telefone']}\\n---------------------------------\\n\")\n",
        "  if len(usuarios) == 0:\n",
        "    print(\"Não existem usuários cadastrados!\\n\")"
      ],
      "metadata": {
        "id": "xxbu-LRZgK6p"
      },
      "execution_count": null,
      "outputs": []
    },
    {
      "cell_type": "code",
      "source": [
        "usuario_1 = {}\n",
        "usuario_2 = {}\n",
        "usuario_3 = {}\n",
        "usuario_4 = {}\n",
        "usuario_5 = {}\n",
        "usuarios = []\n",
        "sair = False\n",
        "while(sair == False):\n",
        "  escolha = int(input(\"Escolha uma opção: \\n(0): Para sair do sistema \\n(1): Para cadastrar um usuário \\n(2): Para consultar um usuário pelo ID \\n(3): Para listar todos os nomes cadastrados \\n(4): Para deletar um usuário pelo ID \\n(5): Para alterar um dado de um usuário pelo ID.\\n\"))\n",
        "  if escolha == 0:\n",
        "    sair = True\n",
        "    print(\"\\nO usuário saiu do sistema!\")\n",
        "  elif escolha == 1:\n",
        "    cadastrar()\n",
        "  elif escolha == 2:\n",
        "    id = int(input(\"\\nDigite o ID do usuário para consultar:\"))\n",
        "    consultar(id)\n",
        "  elif escolha == 3:\n",
        "    listar()\n",
        "  elif escolha == 4:\n",
        "    id = int(input(\"\\nDigite o ID do usuário para deletar:\"))\n",
        "    deletar(id)\n",
        "  elif escolha == 5:\n",
        "    id = int(input(\"\\nDigite o ID do usuário para alterar:\"))\n",
        "    alterar(id)\n",
        "  else:\n",
        "    print(\"\\nOpção Inválida!!!\\n\")"
      ],
      "metadata": {
        "id": "xlBWAcuFA92S",
        "colab": {
          "base_uri": "https://localhost:8080/"
        },
        "outputId": "88953715-cf03-45e6-85db-71ffeef7a2be"
      },
      "execution_count": null,
      "outputs": [
        {
          "output_type": "stream",
          "name": "stdout",
          "text": [
            "Escolha uma opção: \n",
            "(0): Para sair do sistema \n",
            "(1): Para cadastrar um usuário \n",
            "(2): Para consultar um usuário pelo ID \n",
            "(3): Para listar todos os nomes cadastrados \n",
            "(4): Para deletar um usuário pelo ID \n",
            "(5): Para alterar um dado de um usuário pelo ID.\n",
            "0\n",
            "\n",
            "O usuário saiu do sistema!\n"
          ]
        }
      ]
    }
  ]
}
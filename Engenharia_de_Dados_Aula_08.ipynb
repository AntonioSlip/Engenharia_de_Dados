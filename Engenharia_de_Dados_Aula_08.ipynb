{
  "nbformat": 4,
  "nbformat_minor": 0,
  "metadata": {
    "colab": {
      "name": "Engenharia_de_Dados_Aula 08.ipynb",
      "provenance": [],
      "collapsed_sections": [],
      "include_colab_link": true
    },
    "kernelspec": {
      "name": "python3",
      "display_name": "Python 3"
    },
    "language_info": {
      "name": "python"
    }
  },
  "cells": [
    {
      "cell_type": "markdown",
      "metadata": {
        "id": "view-in-github",
        "colab_type": "text"
      },
      "source": [
        "<a href=\"https://colab.research.google.com/github/AntonioSlip/Engenharia_de_Dados/blob/main/Engenharia_de_Dados_Aula_08.ipynb\" target=\"_parent\"><img src=\"https://colab.research.google.com/assets/colab-badge.svg\" alt=\"Open In Colab\"/></a>"
      ]
    },
    {
      "cell_type": "markdown",
      "source": [
        "# ATIVIDADE DE OPERAÇÕES COM CLASSES\n"
      ],
      "metadata": {
        "id": "r76DIycaSAsS"
      }
    },
    {
      "cell_type": "markdown",
      "source": [
        "Classe Bola: Crie uma classe que modele uma bola:\n",
        "\n",
        "Atributos: Cor, circunferência, material\n",
        "\n",
        "Métodos: trocaCor e mostraCor\n",
        "\n",
        "EX: defina a cor azul, circunferência 35 e material couro\n"
      ],
      "metadata": {
        "id": "jeQ5mnYGSE3O"
      }
    },
    {
      "cell_type": "code",
      "execution_count": null,
      "metadata": {
        "id": "z6hVV7-dR_EV",
        "colab": {
          "base_uri": "https://localhost:8080/"
        },
        "outputId": "cbcafd55-19a7-4439-f3bd-0f8978a36c18"
      },
      "outputs": [
        {
          "output_type": "stream",
          "name": "stdout",
          "text": [
            "Cor: Azul \n",
            "Circunferência: 35 \n",
            "Material: Couro\n",
            "A cor da bola é Azul!\n",
            "A cor da bola que era Azul, agora é Amarelo!\n",
            "A cor da bola é Amarelo!\n",
            "Cor:Amarelo \n",
            "Circunferência: 35 \n",
            "Material: Couro\n"
          ]
        }
      ],
      "source": [
        "class Bola:\n",
        "  def __init__(self, cor, circunferencia, material):\n",
        "    self.cor = cor \n",
        "    self.circunferencia = circunferencia\n",
        "    self.material = material\n",
        "  def trocar_cor(self, nova_cor):\n",
        "    print(f\"A cor da bola que era {self.cor}, agora é {nova_cor}!\")\n",
        "    self.cor = nova_cor\n",
        "  def mostrar_cor(self):\n",
        "    print(f\"A cor da bola é {self.cor}!\")\n",
        "nike = Bola(\"Azul\", 35, \"Couro\")\n",
        "print(f\"Cor: {nike.cor} \\nCircunferência: {nike.circunferencia} \\nMaterial: {nike.material}\")\n",
        "nike.mostrar_cor()\n",
        "nike.trocar_cor(\"Amarelo\")\n",
        "nike.mostrar_cor()\n",
        "print(f\"Cor:{nike.cor} \\nCircunferência: {nike.circunferencia} \\nMaterial: {nike.material}\")"
      ]
    },
    {
      "cell_type": "markdown",
      "source": [
        "Classe Quadrado: Crie uma classe que modele um quadrado:\n",
        "\n",
        "Atributos: Tamanho do lado\n",
        "\n",
        "Métodos: Mudar valor do Lado, Retornar valor do Lado e calcular Área;\n"
      ],
      "metadata": {
        "id": "yz0bWTcSSa5w"
      }
    },
    {
      "cell_type": "code",
      "source": [
        "class Quadrado:\n",
        "  def __init__(self, tamanho_lado):\n",
        "    self.tamanho_lado = tamanho_lado\n",
        "  def mudar_valor_lado(self, novo_valor):\n",
        "    print(f\"Mudando o valor do lado do quadrado de {self.tamanho_lado}m para {novo_valor}m\")\n",
        "    self.tamanho_lado = novo_valor\n",
        "  def retornar_valor_lado(self):\n",
        "    print(f\"O lado do quadrado é {self.tamanho_lado}m\")\n",
        "  def calcular_area(self):\n",
        "    area = self.tamanho_lado**2\n",
        "    print(f\"A área do quadrado é {area}m²\")\n",
        "imagem = Quadrado(10)\n",
        "imagem.retornar_valor_lado()\n",
        "imagem.calcular_area()\n",
        "imagem.mudar_valor_lado(20)\n",
        "imagem.retornar_valor_lado()\n",
        "imagem.calcular_area()"
      ],
      "metadata": {
        "id": "9ZlASEKKSf7c",
        "colab": {
          "base_uri": "https://localhost:8080/"
        },
        "outputId": "f8041354-53a2-4aa4-d862-e1bf5f9df3e8"
      },
      "execution_count": null,
      "outputs": [
        {
          "output_type": "stream",
          "name": "stdout",
          "text": [
            "O lado do quadrado é 10m\n",
            "A área do quadrado é 100m²\n",
            "Mudando o valor do lado do quadrado de 10m para 20m\n",
            "O lado do quadrado é 20m\n",
            "A área do quadrado é 400m²\n"
          ]
        }
      ]
    },
    {
      "cell_type": "markdown",
      "source": [
        "Classe Retângulo: Crie uma classe que modele um retangulo:\n",
        "\n",
        "Atributos: LadoA, LadoB (ou Comprimento e Largura, ou Base e Altura, a escolher)\n",
        "\n",
        "Métodos: Mudar valor dos lados, Retornar valor dos lados, calcular Área e \n",
        "calcular Perímetro;\n",
        "\n",
        "Crie um programa que utilize esta classe. Ele deve pedir ao usuário que informe as medidades de um local. Depois, deve-se criar um objeto com as medidas e calcular a quantidade de pisos e de rodapés necessários para o local.\n"
      ],
      "metadata": {
        "id": "FOt1Q_dwSgBf"
      }
    },
    {
      "cell_type": "code",
      "source": [
        "import math\n",
        "class Retangulo:\n",
        "  def __init__(self, comprimento, largura):\n",
        "    self.comprimento = comprimento\n",
        "    self.largura = largura\n",
        "  def mudar_valor_lados(self, novo_comprimento, nova_largura):\n",
        "    print(f\"Comprimento mudou de {self.comprimento}m para {novo_comprimento}m \\nLargura mudou de {self.largura}m para {nova_largura}m\")\n",
        "    self.comprimento = novo_comprimento\n",
        "    self.largura = nova_largura\n",
        "  def retornar_valor_lados(self):\n",
        "    print(f\"Comprimento do local: {self.comprimento}m \\nLargura do local: {self.largura}m\")\n",
        "  def calcular_area(self, area_piso):\n",
        "    area = self.comprimento * self.largura\n",
        "    pisos = area / area_piso\n",
        "    print(f\"A área do local é {area}m² \\nA quantidade necessária para cobrir essa área é de {math.ceil(pisos)} pisos!\")\n",
        "  def calcular_perimetro(self, comprimento_rodape):\n",
        "    perimetro = 2*(self.comprimento + self.largura)\n",
        "    rodape = perimetro / comprimento_rodape\n",
        "    print(f\"O perímetro do local é {perimetro}m \\nA quantidade necessária para cobrir esse perímetro é de {math.ceil(rodape)} rodapés!\")\n",
        "comprimento = float(input(\"Digite o comprimento da sala:\"))\n",
        "largura = float(input(\"Digite a largura da sala:\"))\n",
        "area_piso = float(input(\"Digite a área do piso:\"))\n",
        "comprimento_rodape = float(input(\"Digite o comprimento do rodapé:\"))\n",
        "sala = Retangulo(comprimento,largura)\n",
        "sala.retornar_valor_lados()\n",
        "sala.calcular_area(area_piso)\n",
        "sala.calcular_perimetro(comprimento_rodape)"
      ],
      "metadata": {
        "id": "jDsMxLkoSlQN",
        "colab": {
          "base_uri": "https://localhost:8080/"
        },
        "outputId": "a08040cd-d29e-4c81-c2e4-1cc543621fd3"
      },
      "execution_count": null,
      "outputs": [
        {
          "output_type": "stream",
          "name": "stdout",
          "text": [
            "Digite o comprimento da sala:4\n",
            "Digite a largura da sala:5\n",
            "Digite a área do piso:0.4\n",
            "Digite o comprimento do rodapé:0.2\n",
            "Comprimento do local: 4.0m \n",
            "Largura do local: 5.0m\n",
            "A área do local é 20.0m² \n",
            "A quantidade necessária para cobrir essa área é de 50 pisos!\n",
            "O perímetro do local é 18.0m \n",
            "A quantidade necessária para cobrir esse perímetro é de 90 rodapés!\n"
          ]
        }
      ]
    },
    {
      "cell_type": "markdown",
      "source": [
        "Classe Pessoa: Crie uma classe que modele uma pessoa:\n",
        "\n",
        "Atributos: nome, idade, peso e altura\n",
        "\n",
        "Métodos: Envelhercer, engordar, emagrecer, crescer. Obs: Por padrão, a cada ano \n",
        "que nossa pessoa envelhece, sendo a idade dela menor que 21 anos, ela deve crescer 0,5 cm.\n"
      ],
      "metadata": {
        "id": "xPLRDorYSlZW"
      }
    },
    {
      "cell_type": "code",
      "source": [
        "import random\n",
        "class Pessoa:\n",
        "  def __init__(self, nome, idade, peso, altura):\n",
        "    self.nome = nome\n",
        "    self.idade = idade\n",
        "    self.peso = peso\n",
        "    self.altura = altura\n",
        "  def envelhecer(self, tempo):\n",
        "    self.idade += tempo\n",
        "    print(f\"\\nJá se passaram {tempo} anos(s)!\")\n",
        "    return tempo\n",
        "  def engordar(self):\n",
        "    ganhou = random.randrange(1,15) \n",
        "    self.peso += ganhou\n",
        "    print(f\"A pessoa engordou {ganhou}Kg´s\")\n",
        "  def emagrecer(self):\n",
        "    perdeu = random.randrange(1,10) \n",
        "    self.peso -= perdeu\n",
        "    print(f\"A pessoa emagreceu {perdeu}Kg´s\")\n",
        "  def crescer(self, tempo):\n",
        "      crescimento = tempo * 0.005\n",
        "      self.altura += crescimento\n",
        "aluno = Pessoa(\"Paulo\", 10, 40, 1.43)\n",
        "print(f\"Nome: {aluno.nome} \\nIdade: {aluno.idade} ano(s) \\nPeso: {aluno.peso}Kg \\nAltura: {round(aluno.altura,2)}m\")\n",
        "tempo = int(input(\"Quantos anos se passaram?\"))\n",
        "aluno.crescer(aluno.envelhecer(tempo))\n",
        "aluno.engordar()\n",
        "aluno.emagrecer()\n",
        "print(f\"\\nNome: {aluno.nome} \\nIdade: {aluno.idade} ano(s) \\nPeso: {aluno.peso}Kg \\nAltura: {round(aluno.altura,2)}m\")"
      ],
      "metadata": {
        "id": "P_bpUF1FS4lX",
        "colab": {
          "base_uri": "https://localhost:8080/"
        },
        "outputId": "504d4065-c2fc-4abd-d2a8-2cacd1dddf33"
      },
      "execution_count": 21,
      "outputs": [
        {
          "output_type": "stream",
          "name": "stdout",
          "text": [
            "Nome: Paulo \n",
            "Idade: 10 ano(s) \n",
            "Peso: 40Kg \n",
            "Altura: 1.43m\n",
            "Quantos anos se passaram?20\n",
            "\n",
            "Já se passaram 20 anos(s)!\n",
            "A pessoa engordou 12Kg´s\n",
            "A pessoa emagreceu 7Kg´s\n",
            "\n",
            "Nome: Paulo \n",
            "Idade: 30 ano(s) \n",
            "Peso: 45Kg \n",
            "Altura: 1.53m\n"
          ]
        }
      ]
    },
    {
      "cell_type": "markdown",
      "source": [
        "Classe Conta Corrente: \n",
        "\n",
        "Crie uma classe para implementar uma conta corrente. A classe deve possuir os seguintes atributos: número da conta, nome do correntista e saldo. \n",
        "\n",
        "Os métodos são os seguintes: alterarNome, depósito e saque; No construtor, saldo é opcional, com valor default zero e os demais atributos são obrigatórios."
      ],
      "metadata": {
        "id": "2MRGi7KsS5CN"
      }
    },
    {
      "cell_type": "code",
      "source": [
        "class Conta_Corrente:\n",
        "  def __init__(self, numero_conta,nome):\n",
        "    self.numero_conta = numero_conta\n",
        "    self.nome = nome\n",
        "    self.saldo = 0.0\n",
        "  def alterar_Nome(self, nome):\n",
        "    print(f\"\\nO nome do cliente {self.nome} foi alterado para {nome}.\\n\")\n",
        "    self.nome = nome\n",
        "  def depositar(self, valor):\n",
        "    self.saldo += valor\n",
        "    print(f\"\\nDeposito de R${valor} realizado com sucesso!\\n\")\n",
        "  def sacar(self, valor):\n",
        "    self.saldo -= valor\n",
        "    print(f\"\\nSaque de R${valor} realizado com sucesso!\\n\")\n",
        "conta1 = Conta_Corrente(\"00005555-0\", \"Antonio Noberto\")\n",
        "print(f\"Número da conta: {conta1.numero_conta} \\nNome: {conta1.nome} \\nSaldo: R${conta1.saldo}\")\n",
        "conta1.alterar_Nome(\"Carlos Lima\")\n",
        "print(f\"Número da conta: {conta1.numero_conta} \\nNome: {conta1.nome} \\nSaldo: R${conta1.saldo}\")\n",
        "conta1.depositar(1000)\n",
        "print(f\"Número da conta: {conta1.numero_conta} \\nNome: {conta1.nome} \\nSaldo: R${conta1.saldo}\")\n",
        "conta1.sacar(450)\n",
        "print(f\"Número da conta: {conta1.numero_conta} \\nNome: {conta1.nome} \\nSaldo: R${conta1.saldo}\")"
      ],
      "metadata": {
        "id": "b6DX1fvMTBlZ",
        "colab": {
          "base_uri": "https://localhost:8080/"
        },
        "outputId": "306c6747-35d5-47d5-a185-679a1c47e826"
      },
      "execution_count": 17,
      "outputs": [
        {
          "output_type": "stream",
          "name": "stdout",
          "text": [
            "Número da conta: 00005555-0 \n",
            "Nome: Antonio Noberto \n",
            "Saldo: R$0.0\n",
            "\n",
            "O nome do cliente Antonio Noberto foi alterado para Carlos Lima.\n",
            "\n",
            "Número da conta: 00005555-0 \n",
            "Nome: Carlos Lima \n",
            "Saldo: R$0.0\n",
            "\n",
            "Deposito de R$1000 realizado com sucesso!\n",
            "\n",
            "Número da conta: 00005555-0 \n",
            "Nome: Carlos Lima \n",
            "Saldo: R$1000.0\n",
            "\n",
            "Saque de R$450 realizado com sucesso!\n",
            "\n",
            "Número da conta: 00005555-0 \n",
            "Nome: Carlos Lima \n",
            "Saldo: R$550.0\n"
          ]
        }
      ]
    }
  ]
}
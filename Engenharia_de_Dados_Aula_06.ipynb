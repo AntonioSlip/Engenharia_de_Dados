{
  "nbformat": 4,
  "nbformat_minor": 0,
  "metadata": {
    "colab": {
      "name": "Engenharia_de_Dados_Aula 06.ipynb",
      "provenance": [],
      "collapsed_sections": [],
      "include_colab_link": true
    },
    "kernelspec": {
      "name": "python3",
      "display_name": "Python 3"
    },
    "language_info": {
      "name": "python"
    }
  },
  "cells": [
    {
      "cell_type": "markdown",
      "metadata": {
        "id": "view-in-github",
        "colab_type": "text"
      },
      "source": [
        "<a href=\"https://colab.research.google.com/github/AntonioSlip/Engenharia_de_Dados/blob/main/Engenharia_de_Dados_Aula_06.ipynb\" target=\"_parent\"><img src=\"https://colab.research.google.com/assets/colab-badge.svg\" alt=\"Open In Colab\"/></a>"
      ]
    },
    {
      "cell_type": "markdown",
      "source": [
        "Defina uma função que recebe o nome do usuário, e imprime a mensagem na tela: “Olá, xxxx. Seja bem vindo”;"
      ],
      "metadata": {
        "id": "48iY5rUneJYC"
      }
    },
    {
      "cell_type": "code",
      "execution_count": null,
      "metadata": {
        "id": "n7ib0nIEdoac",
        "colab": {
          "base_uri": "https://localhost:8080/"
        },
        "outputId": "f2d461d3-6cc6-4cc1-8f5b-0d26b856ff21"
      },
      "outputs": [
        {
          "output_type": "stream",
          "name": "stdout",
          "text": [
            "Digite seu nome:Antonio\n",
            "Olá, Antonio, Sejá bem vindo!\n"
          ]
        }
      ],
      "source": [
        "nome = input(\"Digite seu nome:\")\n",
        "def boas_vindas(nome):\n",
        "  print(f\"Olá, {nome}, Sejá bem vindo!\")\n",
        "boas_vindas(nome)"
      ]
    },
    {
      "cell_type": "markdown",
      "source": [
        "Implemente uma função que receba como argumentos dois valores que o usuário informar, e retorne e a soma dos dois valores"
      ],
      "metadata": {
        "id": "7G6yVox9eLfo"
      }
    },
    {
      "cell_type": "code",
      "source": [
        "\n",
        "\n",
        "numero1 = int(input(\"Digite o primeiro número:\"))\n",
        "numero2 = int(input(\"Digite o segundo número:\"))\n",
        "def soma(numero1,numero2):\n",
        "  print(f\"A soma de {numero1} mais {numero2} é igual a {numero1 + numero2}\")\n",
        "soma(numero1,numero2)"
      ],
      "metadata": {
        "id": "PqeK1l2ReOCd",
        "colab": {
          "base_uri": "https://localhost:8080/"
        },
        "outputId": "4919b1ad-ef87-4bc3-a790-f327576e519a"
      },
      "execution_count": null,
      "outputs": [
        {
          "output_type": "stream",
          "name": "stdout",
          "text": [
            "Digite o primeiro número:10\n",
            "Digite o segundo número:20\n",
            "A soma de 10 mais 20 é igual a 30\n"
          ]
        }
      ]
    },
    {
      "cell_type": "markdown",
      "source": [
        "Implemente uma função que recebe um número, e retorna se esse número é par ou não.  Use a lista numeros = [ 12, 356, 98,  89, 45, 12, 90, 34, 123, 834, 979 ] para fazer o uso da função"
      ],
      "metadata": {
        "id": "BBrtvKPbeOLg"
      }
    },
    {
      "cell_type": "code",
      "source": [
        "numeros = [12, 356, 98, 89, 45, 121, 90, 34, 123, 834, 979]\n",
        "def pares(numeros):\n",
        "  for i in numeros:\n",
        "    if i % 2 == 0:\n",
        "      print(f\"O número {i} é par!\")\n",
        "    else:\n",
        "      print(f\"O número {i} é ímpar!\")\n",
        "pares(numeros)"
      ],
      "metadata": {
        "id": "rE6EMKfYeQhN",
        "colab": {
          "base_uri": "https://localhost:8080/"
        },
        "outputId": "6373b744-7d25-4bc9-8e39-450129e3dd03"
      },
      "execution_count": null,
      "outputs": [
        {
          "output_type": "stream",
          "name": "stdout",
          "text": [
            "O número 12 é par!\n",
            "O número 356 é par!\n",
            "O número 98 é par!\n",
            "O número 89 é ímpar!\n",
            "O número 45 é ímpar!\n",
            "O número 121 é ímpar!\n",
            "O número 90 é par!\n",
            "O número 34 é par!\n",
            "O número 123 é ímpar!\n",
            "O número 834 é par!\n",
            "O número 979 é ímpar!\n"
          ]
        }
      ]
    },
    {
      "cell_type": "markdown",
      "source": [
        "Faça uma função que receba a altura e o peso de um estudante e calcule e retorne seu IMC"
      ],
      "metadata": {
        "id": "CYpXcrnPeQs7"
      }
    },
    {
      "cell_type": "code",
      "source": [
        "altura = float(input(\"Digite sua altura:\"))\n",
        "peso = float(input(\"Digite seu peso:\"))\n",
        "def calcular_imc(altura,peso):\n",
        "  imc = peso / altura**2\n",
        "  print(f\"O seu IMC é {round(imc,2)}\")\n",
        "calcular_imc(altura,peso)"
      ],
      "metadata": {
        "id": "GeikcHPkeTH5",
        "colab": {
          "base_uri": "https://localhost:8080/"
        },
        "outputId": "3bc233d3-81a3-4119-ac5b-6d8ddab54698"
      },
      "execution_count": null,
      "outputs": [
        {
          "output_type": "stream",
          "name": "stdout",
          "text": [
            "Digite sua altura:1.77\n",
            "Digite seu peso:100\n",
            "O seu IMC é 31.92\n"
          ]
        }
      ]
    },
    {
      "cell_type": "markdown",
      "source": [
        "Faça uma função que recebe dois números informados pelo usuário e imprime na tela qual é o maior do dois"
      ],
      "metadata": {
        "id": "-s0aOJioeT1e"
      }
    },
    {
      "cell_type": "code",
      "source": [
        "numero1 = int(input(\"Digite o primeiro número:\"))\n",
        "numero2 = int(input(\"Digite o segundo número:\"))\n",
        "def maior(numero1,numero2):\n",
        "  if numero1 > numero2:\n",
        "    print(f\"O maior número é {numero1}\")  \n",
        "  elif numero1 < numero2:\n",
        "    print(f\"O maior número é {numero2}\") \n",
        "  else:\n",
        "    print(\"Os números são iguais!\")\n",
        "maior(numero1,numero2)"
      ],
      "metadata": {
        "id": "dAyRIDPYeZR4",
        "colab": {
          "base_uri": "https://localhost:8080/"
        },
        "outputId": "95aae53c-8b4c-4350-9dcd-f7669a5d319a"
      },
      "execution_count": null,
      "outputs": [
        {
          "output_type": "stream",
          "name": "stdout",
          "text": [
            "Digite o primeiro número:30\n",
            "Digite o segundo número:30\n",
            "Os números são iguais!\n"
          ]
        }
      ]
    },
    {
      "cell_type": "markdown",
      "source": [
        "Faça uma função que receba uma lista de números n_lista= [ 12, 356, 98,  89, 45, 12, 90, 34, 123, 834, 979 ] e retorne  a média desses números"
      ],
      "metadata": {
        "id": "5JJZammreZeY"
      }
    },
    {
      "cell_type": "code",
      "source": [
        "n_lista = [12, 356, 98, 89, 45, 121, 90, 34, 123, 834, 979]\n",
        "def media_lista(n_lista):\n",
        "  soma = 0\n",
        "  for i in n_lista:\n",
        "    soma += i\n",
        "  media = soma /len(n_lista)\n",
        "  print(f\"A média da lista {n_lista} é {round(media,2)}\")\n",
        "media_lista(n_lista)"
      ],
      "metadata": {
        "id": "GeGDd52VecdR",
        "colab": {
          "base_uri": "https://localhost:8080/"
        },
        "outputId": "7b967547-6bc6-438d-8fcd-ee29c67108ac"
      },
      "execution_count": null,
      "outputs": [
        {
          "output_type": "stream",
          "name": "stdout",
          "text": [
            "A média da lista [12, 356, 98, 89, 45, 121, 90, 34, 123, 834, 979] é 252.82\n"
          ]
        }
      ]
    },
    {
      "cell_type": "markdown",
      "source": [
        "Faça uma função que receba a lista acima e retorne o menor número"
      ],
      "metadata": {
        "id": "dpL-fSsiecm6"
      }
    },
    {
      "cell_type": "code",
      "source": [
        "n_lista = [12, 356, 98, 89, 45, 121, 90, 34, 123, 834, 979]\n",
        "def menor_lista(n_lista):\n",
        "  menor = 999999999999999999999999999\n",
        "  for i in n_lista:\n",
        "    if i < menor:\n",
        "      menor = i\n",
        "  print(f\"O menor número da lista {n_lista} é {menor}\")\n",
        "menor_lista(n_lista)"
      ],
      "metadata": {
        "id": "_CDUuzi0egvu",
        "colab": {
          "base_uri": "https://localhost:8080/"
        },
        "outputId": "9850b418-01c8-463c-927d-e7cd254696b6"
      },
      "execution_count": null,
      "outputs": [
        {
          "output_type": "stream",
          "name": "stdout",
          "text": [
            "O menor número da lista [12, 356, 98, 89, 45, 121, 90, 34, 123, 834, 979] é 12\n"
          ]
        }
      ]
    },
    {
      "cell_type": "markdown",
      "source": [
        "Faça uma função que use a lista acima e retorne o maior número"
      ],
      "metadata": {
        "id": "AVqRI6eheg5o"
      }
    },
    {
      "cell_type": "code",
      "source": [
        "n_lista = [12, 356, 98, 89, 45, 121, 90, 34, 123, 834, 979]\n",
        "def maior_lista(n_lista):\n",
        "  maior = 0\n",
        "  for i in n_lista:\n",
        "    if i > maior:\n",
        "      maior =i\n",
        "  print(f\"O maior número da lista {n_lista} é {maior}\")\n",
        "maior_lista(n_lista)"
      ],
      "metadata": {
        "id": "kpXEhFY1epk1",
        "colab": {
          "base_uri": "https://localhost:8080/"
        },
        "outputId": "e874a0d1-6771-429b-e49a-cce8953a0d72"
      },
      "execution_count": null,
      "outputs": [
        {
          "output_type": "stream",
          "name": "stdout",
          "text": [
            "O maior número da lista [12, 356, 98, 89, 45, 121, 90, 34, 123, 834, 979] é 979\n"
          ]
        }
      ]
    },
    {
      "cell_type": "markdown",
      "source": [
        "Crie uma função para deixar um nome somente com as iniciais maiúsculas, independente de como o usuário informar o nome. Receba o nome e use a função para formatá-lo"
      ],
      "metadata": {
        "id": "OJ_YExWaept7"
      }
    },
    {
      "cell_type": "code",
      "source": [
        "nome = input(\"Digite seu nome completo:\")\n",
        "def iniciais_maiuscula(nome):\n",
        "  print(f\"Seu Nome Com Iniciais Maiúcula: {nome.title()}\")\n",
        "iniciais_maiuscula(nome)"
      ],
      "metadata": {
        "id": "CpP_UFuberzR",
        "colab": {
          "base_uri": "https://localhost:8080/"
        },
        "outputId": "5c43eec4-bde9-4e21-d961-583176e01c28"
      },
      "execution_count": null,
      "outputs": [
        {
          "output_type": "stream",
          "name": "stdout",
          "text": [
            "Digite seu nome completo:aNtoNio noBERTo alBUquerQue pereiRa dE liMA\n",
            "Seu Nome Com Iniciais Maiúcula: Antonio Noberto Albuquerque Pereira De Lima\n"
          ]
        }
      ]
    },
    {
      "cell_type": "markdown",
      "source": [
        "Faça uma função que recebe uma lista de números e exclui da lista apenas os números pares"
      ],
      "metadata": {
        "id": "39v2TevEer97"
      }
    },
    {
      "cell_type": "code",
      "source": [
        "n_lista = [12, 356, 98, 89, 45, 121, 90, 34, 123, 834, 979]\n",
        "def excluir_pares(n_lista):\n",
        "  for i in n_lista:\n",
        "    if i % 2 == 0:\n",
        "      n_lista.remove(i)\n",
        "  for i in n_lista:\n",
        "    if i % 2 == 0:\n",
        "      n_lista.remove(i)\n",
        "  print(f\"Lista sem os números pares: {n_lista}\")\n",
        "excluir_pares(n_lista)"
      ],
      "metadata": {
        "id": "sZjIifzkeuxX",
        "colab": {
          "base_uri": "https://localhost:8080/"
        },
        "outputId": "06734fdf-72ed-4fa6-c5e3-2623fa644caf"
      },
      "execution_count": null,
      "outputs": [
        {
          "output_type": "stream",
          "name": "stdout",
          "text": [
            "Lista sem os números pares: [89, 45, 121, 123, 979]\n"
          ]
        }
      ]
    },
    {
      "cell_type": "markdown",
      "source": [
        "Faça uma função que recebe a média final de um aluno por parâmetro e retorna o seu conceito, conforme a tabela abaixo:\n",
        "\n",
        "\n",
        "Nota Conceito de 0,0 a 4,9 D\n",
        "de 5,0 a 6,9 C\n",
        "de 7,0 a 8,9 B\n",
        "de 9,0 a 10,0 A\n",
        "\n"
      ],
      "metadata": {
        "id": "M3jJvx8HevEn"
      }
    },
    {
      "cell_type": "code",
      "source": [
        "media_final = float(input(\"Digite sua média final:\"))\n",
        "def media_conceito(media_final):\n",
        "  if media_final >= 0.0 and media_final <= 4.9:\n",
        "    print(f\"Conceito: 'D'\")\n",
        "  elif media_final >= 5.0 and media_final <= 6.9:\n",
        "    print(f\"Conceito: 'C'\")\n",
        "  elif media_final >= 7.0 and media_final <= 8.9:\n",
        "    print(f\"Conceito: 'B'\")\n",
        "  elif media_final >= 9.0 and media_final <= 10.0:\n",
        "    print(f\"Conceito: 'A'\")\n",
        "media_conceito(media_final)"
      ],
      "metadata": {
        "id": "2YHPHzLzfAa2",
        "colab": {
          "base_uri": "https://localhost:8080/"
        },
        "outputId": "7bbb33e9-e3af-4913-ab03-67566121fd33"
      },
      "execution_count": null,
      "outputs": [
        {
          "output_type": "stream",
          "name": "stdout",
          "text": [
            "Digite sua média final:9.9\n",
            "Conceito: 'A'\n"
          ]
        }
      ]
    },
    {
      "cell_type": "markdown",
      "source": [
        "Faça uma função que recebe o diâmetro de uma circunferência e retorna a sua área; Use a expressão A = 2𝝅r², Onde A é a área, 𝝅=3,14, e r é o raio da circunferência, lembrando que r é igual ao diâmetro/2"
      ],
      "metadata": {
        "id": "72CsbVPtfA25"
      }
    },
    {
      "cell_type": "code",
      "source": [
        "diametro = float(input(\"Digite o diâmetro de uma circunferência:\"))\n",
        "def area_circunferencia(diametro):\n",
        "  raio =  diametro / 2\n",
        "  pi = 3.14\n",
        "  area = 2 * pi * raio**2\n",
        "  print(f\"A area da circunferência é {area}m²\")\n",
        "area_circunferencia(diametro)"
      ],
      "metadata": {
        "id": "dShzmalafBi4",
        "colab": {
          "base_uri": "https://localhost:8080/"
        },
        "outputId": "114089dc-a2cf-499e-cd73-537c7cb616ef"
      },
      "execution_count": null,
      "outputs": [
        {
          "output_type": "stream",
          "name": "stdout",
          "text": [
            "Digite o diâmetro de uma circunferência:20\n",
            "A area da circunferência é 628.0m²\n"
          ]
        }
      ]
    },
    {
      "cell_type": "markdown",
      "source": [
        "Faça uma função que calcula o valor de uma corrida de Uber. Essa função recebe como argumento a distância a ser percorrida. E calcula da seguinte forma: 5,75 fixo, mais 3,25 por quilômetro. Então solicite a distância da corrida e retorne o valor da corrida, com uma mensagem amigável"
      ],
      "metadata": {
        "id": "LqkcbtAefBtC"
      }
    },
    {
      "cell_type": "code",
      "source": [
        "print(\"Olá usuário! Sejá bem vindo a UBER!\")\n",
        "distancia = float(input(\"Digite a distância a ser pecorrida:\"))\n",
        "def valor_corrida(distancia):\n",
        "  valor_fixo = 5.75\n",
        "  valor_km = 3.25\n",
        "  valor = valor_fixo + (valor_km * distancia)\n",
        "  print(f\"O valor da corrida de {distancia}km é de R${round(valor,2)}!\")\n",
        "valor_corrida(distancia)"
      ],
      "metadata": {
        "id": "qI9wfuIsfEOO",
        "colab": {
          "base_uri": "https://localhost:8080/"
        },
        "outputId": "7316f8fe-85ff-442e-d1e5-c5bdcd553492"
      },
      "execution_count": null,
      "outputs": [
        {
          "output_type": "stream",
          "name": "stdout",
          "text": [
            "Olá usuário! Sejá bem vindo a UBER!\n",
            "Digite a distância a ser pecorrida:10.99\n",
            "O valor da corrida de 10.99km é de R$41.47!\n"
          ]
        }
      ]
    },
    {
      "cell_type": "markdown",
      "source": [
        "Crie uma função que recebe uma string e  valida o login do usuário, verificar se o nome contém apenas caracteres alfabéticos e possui menos que 30 caracteres, e outra função que recebe uma senha e valida se a senha possui apenas caracteres alfanuméricos. Crie uma função validar_usuario(login, senha) que retorne True se o login e senha forem validados e False se algum não passa na validação. Imprima na tela se o “usuário e senha foram cadastrados com sucesso” ou “Há algum dado inválido”"
      ],
      "metadata": {
        "id": "SN3tbC1HfEXn"
      }
    },
    {
      "cell_type": "code",
      "source": [
        "login = input(\"Crie um login:\")\n",
        "senha = input(\"Crie uma senha:\")\n",
        "def validar_login(login):\n",
        "  if login.isalpha() == True and len(login) < 30:\n",
        "    return True\n",
        "  else:\n",
        "    return False\n",
        "def validar_senha(senha):\n",
        "  if senha.isalnum() == True:\n",
        "    return True\n",
        "  else:\n",
        "    return False\n",
        "def validar_usuario(login,senha):\n",
        "  if login == True and senha == True:\n",
        "    print(\"Usuário e Senha foram cadastrados com sucesso! \\nValidação do usuário:\")\n",
        "    return True\n",
        "  elif login == False or senha == False:\n",
        "    print(\"Há algum dado inválido! \\nValidação do usuário:\")\n",
        "    return False\n",
        "print(f\"O login contém apenas caracteres alfabéticos e possui menos que 30 caracteres? {validar_login(login)}\")\n",
        "print(f\"A senha possui apenas caracteres alfanuméricos? {validar_senha(senha)}\")\n",
        "print(validar_usuario(validar_login(login),validar_senha(senha)))"
      ],
      "metadata": {
        "id": "Lqmzap1vfHqB",
        "colab": {
          "base_uri": "https://localhost:8080/"
        },
        "outputId": "e2bc177c-6e7a-4007-9215-82a6b8bc1342"
      },
      "execution_count": null,
      "outputs": [
        {
          "output_type": "stream",
          "name": "stdout",
          "text": [
            "Crie um login:aaaaaaaa\n",
            "Crie uma senha:123@#aa\n",
            "O login contém apenas caracteres alfabéticos e possui menos que 30 caracteres? True\n",
            "A senha possui apenas caracteres alfanuméricos? False\n",
            "Há algum dado inválido! \n",
            "Validação do usuário:\n",
            "False\n"
          ]
        }
      ]
    },
    {
      "cell_type": "markdown",
      "source": [
        "Vamos fazer uma calculadora simples. Faça uma função chamada operacao_aritmetica( ) que recebe 3 argumentos. Um número, outro número e um sinal aritmético (+, -, / ou *). Então solicite ao usuário os valores de entrada e chame a função operacao_aritmetica( ) , passe seus argumentos e imprima na tela o nome da operação e o resultado. Valide também se o usuário informou um operador inválido, quer dizer diferente de um dos  4 válidos (+, -, / ou *)"
      ],
      "metadata": {
        "id": "pUKrf-ZgfKnG"
      }
    },
    {
      "cell_type": "code",
      "source": [
        "numero1 = float(input(\"Digite o primeiro número:\"))\n",
        "numero2 = float(input(\"Digite o segundo número:\"))\n",
        "sinal = input(\"Escolha a operação aritmética que deseja realizar(+ , - , / ou *):\")\n",
        "def operacao_aritmetica(numero1,numero2,sinal):\n",
        "  if sinal == \"+\":\n",
        "    print(f\"Operação Soma: \\n{numero1} + {numero2} = {numero1 + numero2}\")\n",
        "  elif sinal == \"-\":\n",
        "    print(f\"Operação Subtração: \\n{numero1} - {numero2} = {numero1 - numero2}\")\n",
        "  elif sinal == \"/\":\n",
        "    print(f\"Operação Divisão: \\n{numero1} / {numero2} = {numero1 / numero2}\")\n",
        "  elif sinal == \"*\":\n",
        "    print(f\"Operação Multiplicação: \\n{numero1} x {numero2} = {numero1 * numero2}\")\n",
        "  else:\n",
        "    print(\"Operador Inválido!\")\n",
        "operacao_aritmetica(numero1,numero2,sinal)"
      ],
      "metadata": {
        "id": "PNNvy2oHfLNZ",
        "colab": {
          "base_uri": "https://localhost:8080/"
        },
        "outputId": "0c30408a-e4b5-4fa8-fb22-ff2557793437"
      },
      "execution_count": null,
      "outputs": [
        {
          "output_type": "stream",
          "name": "stdout",
          "text": [
            "Digite o primeiro número:20\n",
            "Digite o segundo número:10\n",
            "Escolha a operação aritmética que deseja realizar(+ , - , / ou *):/\n",
            "Operação Divisão: \n",
            "20.0 / 10.0 = 2.0\n"
          ]
        }
      ]
    }
  ]
}
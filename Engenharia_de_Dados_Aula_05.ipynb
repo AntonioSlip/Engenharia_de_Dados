{
  "nbformat": 4,
  "nbformat_minor": 0,
  "metadata": {
    "colab": {
      "name": "Engenharia_de_Dados_Aula 05.ipynb",
      "provenance": [],
      "collapsed_sections": [],
      "include_colab_link": true
    },
    "kernelspec": {
      "name": "python3",
      "display_name": "Python 3"
    },
    "language_info": {
      "name": "python"
    }
  },
  "cells": [
    {
      "cell_type": "markdown",
      "metadata": {
        "id": "view-in-github",
        "colab_type": "text"
      },
      "source": [
        "<a href=\"https://colab.research.google.com/github/AntonioSlip/Engenharia_de_Dados/blob/main/Engenharia_de_Dados_Aula_05.ipynb\" target=\"_parent\"><img src=\"https://colab.research.google.com/assets/colab-badge.svg\" alt=\"Open In Colab\"/></a>"
      ]
    },
    {
      "cell_type": "markdown",
      "source": [
        "# ATIVIDADE DE OPERAÇÕES COM STRINGS\n"
      ],
      "metadata": {
        "id": "DYJppDB-hTTT"
      }
    },
    {
      "cell_type": "markdown",
      "source": [
        "Crie uma string com o conteúdo “sou desenvolvedor  Nave Cícero Dias” e em seguida imprima na tela o tamanho dessa string"
      ],
      "metadata": {
        "id": "xeqfxDthhYlz"
      }
    },
    {
      "cell_type": "code",
      "execution_count": null,
      "metadata": {
        "id": "I5wxRcJUg_qK",
        "colab": {
          "base_uri": "https://localhost:8080/"
        },
        "outputId": "f8921918-3a36-4467-c095-0ea50c9422c1"
      },
      "outputs": [
        {
          "output_type": "stream",
          "name": "stdout",
          "text": [
            "34\n"
          ]
        }
      ],
      "source": [
        "frase = \"sou desenvolvedor Nave Cícero Dias\"\n",
        "print(f\"{len(frase)}\")"
      ]
    },
    {
      "cell_type": "markdown",
      "source": [
        "Faça um programa que receba do usuário duas strings, e em seguida informe se elas têm o mesmo tamanho ou não"
      ],
      "metadata": {
        "id": "OK_omWZ2hc64"
      }
    },
    {
      "cell_type": "code",
      "source": [
        "nome = input(\"Digite seu nome:\")\n",
        "sobrenome = input(\"Digite seu sobrenome:\")\n",
        "f\"{nome} e {sobrenome} tem o mesmo tamanho!\" if len(nome) == len(sobrenome) else f\"{nome} e {sobrenome} tem tamanhos diferentes!\""
      ],
      "metadata": {
        "id": "bbh-AYUGhhfj",
        "colab": {
          "base_uri": "https://localhost:8080/",
          "height": 70
        },
        "outputId": "3a0d93ac-8e04-4ba3-da79-a4fb4350461c"
      },
      "execution_count": null,
      "outputs": [
        {
          "name": "stdout",
          "output_type": "stream",
          "text": [
            "Digite seu nome:paulo\n",
            "Digite seu sobrenome:roberto\n"
          ]
        },
        {
          "output_type": "execute_result",
          "data": {
            "text/plain": [
              "'paulo e roberto tem tamanhos diferentes!'"
            ],
            "application/vnd.google.colaboratory.intrinsic+json": {
              "type": "string"
            }
          },
          "metadata": {},
          "execution_count": 8
        }
      ]
    },
    {
      "cell_type": "markdown",
      "source": [
        "Faça um programa que leia duas strings e compare se seus conteúdos são iguais ou nã"
      ],
      "metadata": {
        "id": "0_XTa9wVhhm1"
      }
    },
    {
      "cell_type": "code",
      "source": [
        "nome = input(\"Digite seu nome:\")\n",
        "sobrenome = input(\"Digite seu sobrenome:\")\n",
        "f\"{nome} e {sobrenome} são iguais!\" if nome == sobrenome else f\"{nome} e {sobrenome} são diferentes!\""
      ],
      "metadata": {
        "id": "XPqvZg_jhjmu",
        "colab": {
          "base_uri": "https://localhost:8080/",
          "height": 70
        },
        "outputId": "1c4a0376-a4e9-46b9-aeaa-0beb9e445a6c"
      },
      "execution_count": null,
      "outputs": [
        {
          "name": "stdout",
          "output_type": "stream",
          "text": [
            "Digite seu nome:antonio\n",
            "Digite seu sobrenome:noberto\n"
          ]
        },
        {
          "output_type": "execute_result",
          "data": {
            "text/plain": [
              "'antonio e noberto são diferentes!'"
            ],
            "application/vnd.google.colaboratory.intrinsic+json": {
              "type": "string"
            }
          },
          "metadata": {},
          "execution_count": 19
        }
      ]
    },
    {
      "cell_type": "markdown",
      "source": [
        "Faça um programa que leias suas strings e verifique qual delas tem o maior tamanho"
      ],
      "metadata": {
        "id": "gvE5OX16hjs9"
      }
    },
    {
      "cell_type": "code",
      "source": [
        "lista = [\"antonio\", \"pedro\", \"ana\", \"adalberto\", \"florentina\"]\n",
        "print(lista)\n",
        "maior_tamanho = 0\n",
        "maior_nome = \"\"\n",
        "for i in lista:\n",
        "  if len(i) > maior_tamanho:\n",
        "    maior_tamanho = len(i)\n",
        "    maior_nome = i\n",
        "print(f\"O nome {maior_nome} de tamanho {maior_tamanho} é a maior String!\") "
      ],
      "metadata": {
        "id": "aBQd-GoYhlcr",
        "colab": {
          "base_uri": "https://localhost:8080/"
        },
        "outputId": "5dd8268b-b972-4392-a70e-1d76aea71438"
      },
      "execution_count": null,
      "outputs": [
        {
          "output_type": "stream",
          "name": "stdout",
          "text": [
            "['antonio', 'pedro', 'ana', 'adalberto', 'florentina']\n",
            "O nome florentina de tamanho 10 é a maior String!\n"
          ]
        }
      ]
    },
    {
      "cell_type": "markdown",
      "source": [
        "Faça um programa que recebe a idade de dois usuários. Em seguida imprima na tela a soma das idade, abaixo converta as idades para string e efetue o comando print(idade_1 + idade_2) veja o resultado. Foi igual a soma? Explique porque o resultado da impressão é igual ou diferente"
      ],
      "metadata": {
        "id": "2BgF4efbhllA"
      }
    },
    {
      "cell_type": "code",
      "source": [
        "numero1 = int(input(\"Digite a primeira idade:\"))        \n",
        "numero2 = int(input(\"Digite a segunda idade:\"))\n",
        "print(f\"A soma de {numero1} mais {numero2} é igual a {numero1+numero2}\")\n",
        "print(f\"A contenação da string {numero1} mais string {numero2} é igual a {str(numero1)+str(numero2)}\")\n",
        "#A soma não foi igual. Porque no primeiro print o \"+\" está somando dois números inteiros e no segundo print etá juntando duas strings."
      ],
      "metadata": {
        "id": "Uj6BxkXWhoJl",
        "colab": {
          "base_uri": "https://localhost:8080/"
        },
        "outputId": "3f7732e9-7d9c-438e-d56f-c3b907d20d13"
      },
      "execution_count": null,
      "outputs": [
        {
          "output_type": "stream",
          "name": "stdout",
          "text": [
            "Digite a primeira idade:10\n",
            "Digite a segunda idade:20\n",
            "A soma de 10 mais 20 é igual a 30\n",
            "A contenação da string 10 mais string 20 é igual a 1020\n"
          ]
        }
      ]
    },
    {
      "cell_type": "markdown",
      "source": [
        "Faça um algoritmo que recebe o nome e sobrenome do usuário. Em seguida crie uma variável nome_completo que deve receber o nome completo do usuário. Imprima na tela de forma apresentável"
      ],
      "metadata": {
        "id": "J35hKzIJhoRZ"
      }
    },
    {
      "cell_type": "code",
      "source": [
        "nome = input(\"Digite seu nome:\")\n",
        "sobrenome = input(\"Digite seu sobrenome:\")\n",
        "nome_completo = nome + \" \"+ sobrenome\n",
        "print(f\"O nome completo é {nome_completo}\")"
      ],
      "metadata": {
        "id": "3bbqsafbhq2f",
        "colab": {
          "base_uri": "https://localhost:8080/"
        },
        "outputId": "5eaa91da-4b75-4084-9878-9ea7f6707fc1"
      },
      "execution_count": null,
      "outputs": [
        {
          "output_type": "stream",
          "name": "stdout",
          "text": [
            "Digite seu nome:antonio\n",
            "Digite seu sobrenome:noberto\n",
            "O nome completo é antonio noberto\n"
          ]
        }
      ]
    },
    {
      "cell_type": "markdown",
      "source": [
        "Declare uma string: mensagem = \"Os alunos do cícero dias são os melhores programadores de Pernambuco\" em seguida conte quantos espaços em branco há nesse texto"
      ],
      "metadata": {
        "id": "6RWi3n4Zhq-l"
      }
    },
    {
      "cell_type": "code",
      "source": [
        "mensagem = \"Os alunos do cícero dias são os melhores programadores de Pernambuco\"\n",
        "print(mensagem)\n",
        "quantidade_espaços_branco = mensagem.count(\" \")\n",
        "print(f\"Há {quantidade_espaços_branco} espaços em branco nesse texto\")"
      ],
      "metadata": {
        "id": "PL0fjm6VhvDe",
        "colab": {
          "base_uri": "https://localhost:8080/"
        },
        "outputId": "1ab6f265-2ffb-4626-b09e-7a16fe2beb2e"
      },
      "execution_count": null,
      "outputs": [
        {
          "output_type": "stream",
          "name": "stdout",
          "text": [
            "Os alunos do cícero dias são os melhores programadores de Pernambuco\n",
            "Há 10 espaços em branco nesse texto\n"
          ]
        }
      ]
    },
    {
      "cell_type": "markdown",
      "source": [
        "Faça um algoritmo que imprima na tela cada letra do nome “joão gomes da silva”"
      ],
      "metadata": {
        "id": "o9LAOo8chvM2"
      }
    },
    {
      "cell_type": "code",
      "source": [
        "nome = \"joão gomes da silva\"\n",
        "for i in nome:\n",
        "  print(i)"
      ],
      "metadata": {
        "id": "xn04Ndywhx5g",
        "colab": {
          "base_uri": "https://localhost:8080/"
        },
        "outputId": "f0c53608-b53f-4ea1-da9e-a8643276186b"
      },
      "execution_count": null,
      "outputs": [
        {
          "output_type": "stream",
          "name": "stdout",
          "text": [
            "j\n",
            "o\n",
            "ã\n",
            "o\n",
            " \n",
            "g\n",
            "o\n",
            "m\n",
            "e\n",
            "s\n",
            " \n",
            "d\n",
            "a\n",
            " \n",
            "s\n",
            "i\n",
            "l\n",
            "v\n",
            "a\n"
          ]
        }
      ]
    },
    {
      "cell_type": "markdown",
      "source": [
        "Faça um algoritmo que verifique se a letra ‘k’ está contida na string acima. Use o ‘in’ para fazer a verificação. Imprima a seguinte mensagem: “A letra k pertence/ não pertence  ao nome  informado”"
      ],
      "metadata": {
        "id": "mWbGvN6XhyB1"
      }
    },
    {
      "cell_type": "code",
      "source": [
        "nome = \"joão gomes da silva\"\n",
        "letra = \"k\"\n",
        "contido = letra in nome\n",
        "f\"A letra {letra} pertence ao nome {nome}\" if contido == True else f\"A letra {letra} não pertence ao nome {nome}\"\n"
      ],
      "metadata": {
        "id": "1BNR66z-h0cg",
        "colab": {
          "base_uri": "https://localhost:8080/",
          "height": 35
        },
        "outputId": "f3ed6d26-e0a2-44c1-bffa-e1bf0178d1f6"
      },
      "execution_count": null,
      "outputs": [
        {
          "output_type": "execute_result",
          "data": {
            "text/plain": [
              "'A letra k não pertence ao nome joão gomes da silva'"
            ],
            "application/vnd.google.colaboratory.intrinsic+json": {
              "type": "string"
            }
          },
          "metadata": {},
          "execution_count": 75
        }
      ]
    },
    {
      "cell_type": "markdown",
      "source": [
        "Faça um algoritmo que solicite o nome do usuário e imprima ele da seguinte forma:\n",
        "n\n",
        "no\n",
        "nom\n",
        "nome\n"
      ],
      "metadata": {
        "id": "2eJakHr6h0lo"
      }
    },
    {
      "cell_type": "code",
      "source": [
        "nome = input(\"Digite seu nome:\")\n",
        "modificando = nome.replace(nome,\"n no nom nome\")\n",
        "print(f\"O nome {nome} modificado é {modificando}\")"
      ],
      "metadata": {
        "id": "szuBNhcth3wf",
        "colab": {
          "base_uri": "https://localhost:8080/"
        },
        "outputId": "ea1bbe4b-c184-4000-a25e-4afa99ab17b0"
      },
      "execution_count": null,
      "outputs": [
        {
          "output_type": "stream",
          "name": "stdout",
          "text": [
            "Digite seu nome:antonio\n",
            "O nome antonio modificado é n no nom nome\n"
          ]
        }
      ]
    },
    {
      "cell_type": "markdown",
      "source": [
        "Faça um algoritmo que solicite ao usuário sua data de nascimento no formato dd/mm/YYYY, sabendo que uma string como essa tem 10 caracteres, primeiramente valide se o valor informado pelo usuário possui a quantidade correta de caracteres, caso correto, exiba a seguinte mensagem “Você nasceu em 00 de janeiro de 1900” , caso a data esteja incorreta, exiba a mensagem “Data inválida”."
      ],
      "metadata": {
        "id": "XSH38kVIh35J"
      }
    },
    {
      "cell_type": "code",
      "source": [
        "nascimento = input(\"Digite sua data de nascimento(dd/mm/YYYY):\")\n",
        "dia = nascimento[0:2]\n",
        "mes = int(nascimento[3:5]) - 1\n",
        "ano = nascimento[6:10]\n",
        "meses = [\"janeiro\", \"fevereiro\", \"março\", \"abril\", \"maio\", \"junho\", \"julho\", \"agosto\", \"setembro\", \"outubro\", \"novembro\", \"dezembro\"]\n",
        "for i in meses:\n",
        "    if mes == meses.index(i):\n",
        "      nome_mes = i \n",
        "f\"Você nasceu em {dia} de {nome_mes} de {ano}\" if len(nascimento) == 10 else f\"Data inválida\""
      ],
      "metadata": {
        "id": "3GNnx1jjh6nR",
        "colab": {
          "base_uri": "https://localhost:8080/",
          "height": 53
        },
        "outputId": "9c99497c-0946-40b3-f887-cc7075325cd3"
      },
      "execution_count": null,
      "outputs": [
        {
          "name": "stdout",
          "output_type": "stream",
          "text": [
            "Digite sua data de nascimento(dd/mm/YYYY):19/12/2001\n"
          ]
        },
        {
          "output_type": "execute_result",
          "data": {
            "text/plain": [
              "'Você nasceu em 19 de dezembro de 2001'"
            ],
            "application/vnd.google.colaboratory.intrinsic+json": {
              "type": "string"
            }
          },
          "metadata": {},
          "execution_count": 177
        }
      ]
    },
    {
      "cell_type": "markdown",
      "source": [
        "Faça um algoritmo que solicite o número de telefone do usuário com 9 dígitos, verifique se o usuário realmente digitou 9 dígitos e se todos os números. Caso positivo, retorne a mensagem número válido. Caso contrário, exiba número inválido."
      ],
      "metadata": {
        "id": "L7Om_QBdh6w9"
      }
    },
    {
      "cell_type": "code",
      "source": [
        "telefone = input(\"Digite um número de telefone:\")\n",
        "numerico = telefone.isnumeric()\n",
        "tamanho = len(telefone)\n",
        "f\"Número Válido: {telefone}\" if telefone.isnumeric() == True and len(telefone) == 9 else f\"Número Inválido: {telefone}\""
      ],
      "metadata": {
        "id": "VoCv1AsBh9E0",
        "colab": {
          "base_uri": "https://localhost:8080/",
          "height": 53
        },
        "outputId": "fd4a7e7d-670e-4e33-81b0-f9df91e34338"
      },
      "execution_count": null,
      "outputs": [
        {
          "name": "stdout",
          "output_type": "stream",
          "text": [
            "Digite um número de telefone:99999999a\n"
          ]
        },
        {
          "output_type": "execute_result",
          "data": {
            "text/plain": [
              "'Número Inválido: 99999999a'"
            ],
            "application/vnd.google.colaboratory.intrinsic+json": {
              "type": "string"
            }
          },
          "metadata": {},
          "execution_count": 98
        }
      ]
    },
    {
      "cell_type": "markdown",
      "source": [
        "Faça um algoritmo que solicite o nome completo do usuário e em seguida formate da seguinte forma. Primeiro, converta todo nome para minúsculo e em seguida coloque somente as primeiras letras do nome para maiúsculo."
      ],
      "metadata": {
        "id": "AHMk3PYuh9Na"
      }
    },
    {
      "cell_type": "code",
      "source": [
        "nome_completo = input(\"Digite seu nome completo:\")\n",
        "print(nome_completo)\n",
        "print(f\"nome todo em minúsculo: {nome_completo.lower()}\")\n",
        "print(f\"Primeiras Letras Do Nome Em Maiúsculo: {nome_completo.title()}\")"
      ],
      "metadata": {
        "id": "hfJyiGJSh_5S",
        "colab": {
          "base_uri": "https://localhost:8080/"
        },
        "outputId": "8a186b01-df64-441d-b12a-be63224bae77"
      },
      "execution_count": null,
      "outputs": [
        {
          "output_type": "stream",
          "name": "stdout",
          "text": [
            "Digite seu nome completo:ANTONIO NOBERTO ALBUQUERQUE PEREIRA DE LIMA\n",
            "ANTONIO NOBERTO ALBUQUERQUE PEREIRA DE LIMA\n",
            "nome todo em minúsculo: antonio noberto albuquerque pereira de lima\n",
            "Primeiras Letras Do Nome Em Maiúsculo: Antonio Noberto Albuquerque Pereira De Lima\n"
          ]
        }
      ]
    },
    {
      "cell_type": "markdown",
      "source": [
        "Faça um algoritmo que solicite a 3 usuários seus nomes completos. Extraia cada nome para uma lista e exiba apenas o primeiro e último nome de cada usuário da seguinte forma, “Para o nome completo { }, o primeiro nome é { } e último nome é { }”."
      ],
      "metadata": {
        "id": "CzysuErciABG"
      }
    },
    {
      "cell_type": "code",
      "source": [
        "nome_completo1 = []\n",
        "nome_completo2 = []\n",
        "nome_completo3 = []\n",
        "for i in range(1,4,1):\n",
        "  nome_completo = input(f\"Digite o {i} nome Completo:\")\n",
        "  if len(nome_completo1) == 0:\n",
        "    nome_completo1.append(nome_completo)\n",
        "  elif len(nome_completo1) > 0 and len(nome_completo2) == 0:\n",
        "    nome_completo2.append(nome_completo)\n",
        "  elif len(nome_completo1) > 0 and len(nome_completo2) > 0:\n",
        "    nome_completo3.append(nome_completo)\n",
        "usuario1 = nome_completo1[0].split(\" \")\n",
        "ultimo_indice1 = len(usuario1) - 1 \n",
        "usuario2 = nome_completo2[0].split(\" \")\n",
        "ultimo_indice2 = len(usuario2) - 1 \n",
        "usuario3 = nome_completo3[0].split(\" \")\n",
        "ultimo_indice3 = len(usuario3) - 1   \n",
        "print(f\"Para o nome completo {nome_completo1}, o primeiro nome é {usuario1[0]} e o último nome é {usuario1[ultimo_indice1]}\")\n",
        "print(f\"Para o nome completo {nome_completo2}, o primeiro nome é {usuario2[0]} e o último nome é {usuario2[ultimo_indice2]}\")\n",
        "print(f\"Para o nome completo {nome_completo3}, o primeiro nome é {usuario3[0]} e o último nome é {usuario3[ultimo_indice3]}\")"
      ],
      "metadata": {
        "id": "y0swKKZ9iB5s",
        "colab": {
          "base_uri": "https://localhost:8080/"
        },
        "outputId": "a33cbead-5f9c-4c02-b488-d4985e965169"
      },
      "execution_count": null,
      "outputs": [
        {
          "output_type": "stream",
          "name": "stdout",
          "text": [
            "Digite o 1 nome Completo:antonio noberto albuquerque pereira\n",
            "Digite o 2 nome Completo:carlos lima cavalcanti\n",
            "Digite o 3 nome Completo:pedro barbosa peixoto oliveira\n",
            "Para o nome completo ['antonio noberto albuquerque pereira'], o primeiro nome é antonio e o último nome é pereira\n",
            "Para o nome completo ['carlos lima cavalcanti'], o primeiro nome é carlos e o último nome é cavalcanti\n",
            "Para o nome completo ['pedro barbosa peixoto oliveira'], o primeiro nome é pedro e o último nome é oliveira\n"
          ]
        }
      ]
    },
    {
      "cell_type": "markdown",
      "source": [
        "Palíndromo é uma palavra que lida em qualquer sentido tem a mesma escrita. Exemplo, “ovo”, lida da esquerda pra direita, é igual da direita para a esquerda. Faça um algoritmo que solicite uma palavra ao usuário e verifique se essa palavra é um palíndromo. OBS: em python o comando “string”[::-1] inverte um texto."
      ],
      "metadata": {
        "id": "whg4QAFSiCCg"
      }
    },
    {
      "cell_type": "code",
      "source": [
        "palavra = input(\"Digite uma palavra:\")\n",
        "palavra_invertida = palavra[::-1]\n",
        "print(f\"Palavra Normal: {palavra}\")\n",
        "print(f\"Palavra Invertida: {palavra_invertida}\")\n",
        "f\"A palavra {palavra} é um palíndromo\" if palavra == palavra_invertida else f\"A palavra {palavra} não é um palíndromo\""
      ],
      "metadata": {
        "id": "GWPM1253iGCP",
        "colab": {
          "base_uri": "https://localhost:8080/",
          "height": 87
        },
        "outputId": "05578eda-2dee-4a1f-d30d-e35234fb132a"
      },
      "execution_count": null,
      "outputs": [
        {
          "output_type": "stream",
          "name": "stdout",
          "text": [
            "Digite uma palavra:pedro\n",
            "Palavra Normal: pedro\n",
            "Palavra Invertida: ordep\n"
          ]
        },
        {
          "output_type": "execute_result",
          "data": {
            "text/plain": [
              "'A palavra pedro não é um palíndromo'"
            ],
            "application/vnd.google.colaboratory.intrinsic+json": {
              "type": "string"
            }
          },
          "metadata": {},
          "execution_count": 132
        }
      ]
    }
  ]
}
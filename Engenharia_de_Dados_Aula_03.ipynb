{
  "nbformat": 4,
  "nbformat_minor": 0,
  "metadata": {
    "colab": {
      "name": "Engenharia_de_Dados_Aula 03.ipynb",
      "provenance": [],
      "collapsed_sections": [],
      "include_colab_link": true
    },
    "kernelspec": {
      "name": "python3",
      "display_name": "Python 3"
    },
    "language_info": {
      "name": "python"
    }
  },
  "cells": [
    {
      "cell_type": "markdown",
      "metadata": {
        "id": "view-in-github",
        "colab_type": "text"
      },
      "source": [
        "<a href=\"https://colab.research.google.com/github/AntonioSlip/Engenharia_de_Dados/blob/main/Engenharia_de_Dados_Aula_03.ipynb\" target=\"_parent\"><img src=\"https://colab.research.google.com/assets/colab-badge.svg\" alt=\"Open In Colab\"/></a>"
      ]
    },
    {
      "cell_type": "markdown",
      "source": [
        "# ATIVIDADE DE ESTRUTURA DE REPETIÇÃO\n"
      ],
      "metadata": {
        "id": "kGV6Den_vGSW"
      }
    },
    {
      "cell_type": "markdown",
      "source": [
        "Faça um programa que imprima na tela os números de 0 a 30."
      ],
      "metadata": {
        "id": "SbvRKF9NvIYf"
      }
    },
    {
      "cell_type": "code",
      "source": [
        "for i in range(0,31,1):\n",
        "  print(f\"Número {i}\")"
      ],
      "metadata": {
        "id": "ED6aOLqavKUa",
        "colab": {
          "base_uri": "https://localhost:8080/"
        },
        "outputId": "09cd18cd-3af4-497a-f467-f07c081c393f"
      },
      "execution_count": null,
      "outputs": [
        {
          "output_type": "stream",
          "name": "stdout",
          "text": [
            "Número 0\n",
            "Número 1\n",
            "Número 2\n",
            "Número 3\n",
            "Número 4\n",
            "Número 5\n",
            "Número 6\n",
            "Número 7\n",
            "Número 8\n",
            "Número 9\n",
            "Número 10\n",
            "Número 11\n",
            "Número 12\n",
            "Número 13\n",
            "Número 14\n",
            "Número 15\n",
            "Número 16\n",
            "Número 17\n",
            "Número 18\n",
            "Número 19\n",
            "Número 20\n",
            "Número 21\n",
            "Número 22\n",
            "Número 23\n",
            "Número 24\n",
            "Número 25\n",
            "Número 26\n",
            "Número 27\n",
            "Número 28\n",
            "Número 29\n",
            "Número 30\n"
          ]
        }
      ]
    },
    {
      "cell_type": "markdown",
      "source": [
        "Faça um programa que imprima todos os números múltiplos de 3 entre 0 e 100\n"
      ],
      "metadata": {
        "id": "sRNMLCAkvKsp"
      }
    },
    {
      "cell_type": "code",
      "source": [
        "for i in range(0,101,1):\n",
        "  if i % 3 == 0:\n",
        "    print(f\"Múltiplos de 3: {i}\")"
      ],
      "metadata": {
        "id": "2se9jJfRvMVR",
        "colab": {
          "base_uri": "https://localhost:8080/"
        },
        "outputId": "61b5a9b8-0bf9-4cff-a1b7-310f14baf38e"
      },
      "execution_count": null,
      "outputs": [
        {
          "output_type": "stream",
          "name": "stdout",
          "text": [
            "Múltiplos de 3: 0\n",
            "Múltiplos de 3: 3\n",
            "Múltiplos de 3: 6\n",
            "Múltiplos de 3: 9\n",
            "Múltiplos de 3: 12\n",
            "Múltiplos de 3: 15\n",
            "Múltiplos de 3: 18\n",
            "Múltiplos de 3: 21\n",
            "Múltiplos de 3: 24\n",
            "Múltiplos de 3: 27\n",
            "Múltiplos de 3: 30\n",
            "Múltiplos de 3: 33\n",
            "Múltiplos de 3: 36\n",
            "Múltiplos de 3: 39\n",
            "Múltiplos de 3: 42\n",
            "Múltiplos de 3: 45\n",
            "Múltiplos de 3: 48\n",
            "Múltiplos de 3: 51\n",
            "Múltiplos de 3: 54\n",
            "Múltiplos de 3: 57\n",
            "Múltiplos de 3: 60\n",
            "Múltiplos de 3: 63\n",
            "Múltiplos de 3: 66\n",
            "Múltiplos de 3: 69\n",
            "Múltiplos de 3: 72\n",
            "Múltiplos de 3: 75\n",
            "Múltiplos de 3: 78\n",
            "Múltiplos de 3: 81\n",
            "Múltiplos de 3: 84\n",
            "Múltiplos de 3: 87\n",
            "Múltiplos de 3: 90\n",
            "Múltiplos de 3: 93\n",
            "Múltiplos de 3: 96\n",
            "Múltiplos de 3: 99\n"
          ]
        }
      ]
    },
    {
      "cell_type": "markdown",
      "source": [
        "Faça um programa que solicita 10 números do usuário e em seguida exiba a mensagem “O número {x} é ímpar/par” de acordo com o valor que foi digitado.\n"
      ],
      "metadata": {
        "id": "2L1nKD4EvMjJ"
      }
    },
    {
      "cell_type": "code",
      "source": [
        "for i in range(1,11,1):\n",
        "  numeros = int(input(f\"Digite o {i} número:\"))\n",
        "  print(f\"O número {numeros} é par!\") if numeros % 2 == 0 else print(f\"O número {numeros} é ímpar!\")"
      ],
      "metadata": {
        "id": "E2AxKSQkvOeg",
        "colab": {
          "base_uri": "https://localhost:8080/"
        },
        "outputId": "14bb4b69-6196-418e-c6bc-d270f74d1a4b"
      },
      "execution_count": null,
      "outputs": [
        {
          "output_type": "stream",
          "name": "stdout",
          "text": [
            "Digite o 1 número:10\n",
            "O número 10 é par!\n",
            "Digite o 2 número:2\n",
            "O número 2 é par!\n",
            "Digite o 3 número:23\n",
            "O número 23 é ímpar!\n",
            "Digite o 4 número:10\n",
            "O número 10 é par!\n",
            "Digite o 5 número:122\n",
            "O número 122 é par!\n",
            "Digite o 6 número:20\n",
            "O número 20 é par!\n",
            "Digite o 7 número:10\n",
            "O número 10 é par!\n",
            "Digite o 8 número:10\n",
            "O número 10 é par!\n",
            "Digite o 9 número:23\n",
            "O número 23 é ímpar!\n",
            "Digite o 10 número:20\n",
            "O número 20 é par!\n"
          ]
        }
      ]
    },
    {
      "cell_type": "markdown",
      "source": [
        "Faça um programa que solicite uma palavra ao usuário. Caso a palavra “sim”, o programa imprime a mensagem “você decidiu continuar” e solicita mais uma vez uma palavra ao usuário. Caso o usuário digite “não”, imprima a mensagem “você saiu”, e encerre o programa. Para qualquer outra palavra do usuário, exiba a mensagem “palavra inválida” e continue solicitando uma palavra correta."
      ],
      "metadata": {
        "id": "X5sxsZlmvOlv"
      }
    },
    {
      "cell_type": "code",
      "source": [
        "sair = False\n",
        "while sair == False:\n",
        "  palavra = input(\"Digite uma palavra(sim ou não):\")\n",
        "  if palavra == \"sim\":\n",
        "    print(\"Você decidiu continuar!\")\n",
        "  elif palavra == \"não\":\n",
        "    sair = True\n",
        "    print(\"Você saiu!\")\n",
        "  else:\n",
        "    print(\"Palavra inválida!\")"
      ],
      "metadata": {
        "id": "DTm_7NETvQTt",
        "colab": {
          "base_uri": "https://localhost:8080/"
        },
        "outputId": "46b3bb3a-4dfe-4f4e-b03b-81e05cbeec1e"
      },
      "execution_count": null,
      "outputs": [
        {
          "output_type": "stream",
          "name": "stdout",
          "text": [
            "Digite uma palavra(sim ou não):sim\n",
            "Você decidiu continuar!\n",
            "Digite uma palavra(sim ou não):s\n",
            "Palavra inválida!\n",
            "Digite uma palavra(sim ou não):n\n",
            "Palavra inválida!\n",
            "Digite uma palavra(sim ou não):sim\n",
            "Você decidiu continuar!\n",
            "Digite uma palavra(sim ou não):não\n",
            "Você saiu!\n"
          ]
        }
      ]
    },
    {
      "cell_type": "markdown",
      "source": [
        "Faça um programa que solicite a idade de 10 usuários, em seguida exiba a média das idades.\n"
      ],
      "metadata": {
        "id": "lhXiknQ6vQUY"
      }
    },
    {
      "cell_type": "code",
      "source": [
        "idades = 0\n",
        "for i in range(1,11,1):\n",
        "  idade = int(input(f\"Digite a {i} idade:\"))\n",
        "  idades += idade\n",
        "media = idades / 10\n",
        "print(f\"A média das idades é {media}\")"
      ],
      "metadata": {
        "id": "zFOwXikLvSTP",
        "colab": {
          "base_uri": "https://localhost:8080/"
        },
        "outputId": "6a4ab8cf-2be6-425d-feef-fb2ae3611f16"
      },
      "execution_count": null,
      "outputs": [
        {
          "output_type": "stream",
          "name": "stdout",
          "text": [
            "Digite a 1 idade:10\n",
            "Digite a 2 idade:10\n",
            "Digite a 3 idade:10\n",
            "Digite a 4 idade:10\n",
            "Digite a 5 idade:10\n",
            "Digite a 6 idade:10\n",
            "Digite a 7 idade:10\n",
            "Digite a 8 idade:10\n",
            "Digite a 9 idade:10\n",
            "Digite a 10 idade:10\n",
            "A média das idades é 10.0\n"
          ]
        }
      ]
    },
    {
      "cell_type": "markdown",
      "source": [
        "Vamos criar um jogo de adivinha. Primeiramente crie uma variável com um número secreto. Em seguida faça um looping que solicite um número ao usuário. Verifique se o usuário acertou. Caso tenha acertado, mostre a mensagem “você acertou! O número secreto é {…}”. O programa somente para de solicitar os números quando o número secreto é acertado."
      ],
      "metadata": {
        "id": "DnFYArjNvSZW"
      }
    },
    {
      "cell_type": "code",
      "source": [
        "numero_secreto = 19\n",
        "sair = False\n",
        "while sair == False:\n",
        "  numero = int(input(\"Digite um número:\"))\n",
        "  if numero == numero_secreto:\n",
        "    sair = True\n",
        "    print(f\"Você acertou! O número secreto é {numero_secreto}!\")\n",
        "  elif numero != numero_secreto:\n",
        "    print(\"Voce errou! Tente novamente!\")"
      ],
      "metadata": {
        "id": "jkQnNuqnvU-Q",
        "colab": {
          "base_uri": "https://localhost:8080/"
        },
        "outputId": "2f8bd8bf-88ad-42e5-9f66-5e9fbde3e06f"
      },
      "execution_count": null,
      "outputs": [
        {
          "output_type": "stream",
          "name": "stdout",
          "text": [
            "Digite um número:10\n",
            "Voce errou! Tente novamente!\n",
            "Digite um número:1\n",
            "Voce errou! Tente novamente!\n",
            "Digite um número:2\n",
            "Voce errou! Tente novamente!\n",
            "Digite um número:19\n",
            "Você acertou! O número secreto é 19!\n"
          ]
        }
      ]
    },
    {
      "cell_type": "markdown",
      "source": [
        "Faça um programa que peça 10 números inteiros, calcule e mostre a quantidade de números pares e a quantidade de números ímpares."
      ],
      "metadata": {
        "id": "9aZ5_z9BvVG5"
      }
    },
    {
      "cell_type": "code",
      "source": [
        "quantidade_pares = 0\n",
        "quantidade_impares = 0\n",
        "for i in range(1,11,1):\n",
        "  numeros = int(input(f\"Digite o {i} número:\"))\n",
        "  if numeros % 2 == 0:\n",
        "    quantidade_pares += 1\n",
        "  elif numeros % 2 == 1:\n",
        "    quantidade_impares += 1\n",
        "print(f\"Quantidade de números pares: {quantidade_pares} \\nQuantidade de números impares: {quantidade_impares}\")\n"
      ],
      "metadata": {
        "id": "p8pMclkovXRo",
        "colab": {
          "base_uri": "https://localhost:8080/"
        },
        "outputId": "1aa44ac3-1537-4393-f5bf-4f35382576b6"
      },
      "execution_count": null,
      "outputs": [
        {
          "output_type": "stream",
          "name": "stdout",
          "text": [
            "Digite o 1 número:10\n",
            "Digite o 2 número:20\n",
            "Digite o 3 número:30\n",
            "Digite o 4 número:40\n",
            "Digite o 5 número:50\n",
            "Digite o 6 número:60\n",
            "Digite o 7 número:70\n",
            "Digite o 8 número:80\n",
            "Digite o 9 número:1\n",
            "Digite o 10 número:3\n",
            "Quantidade de números pares: 8 \n",
            "Quantidade de números impares: 2\n"
          ]
        }
      ]
    },
    {
      "cell_type": "markdown",
      "source": [
        "Faça um programa que solicite dois números ao usuário entre 0 e 20. Em seguida imprima na tela todos os números que existem no intervalo."
      ],
      "metadata": {
        "id": "cfmf_gBvvXd2"
      }
    },
    {
      "cell_type": "code",
      "source": [
        "numero1 = int(input(\"Digite o primeiro número:\"))\n",
        "numero2 = int(input(\"Digite o segundo número:\"))\n",
        "print(f\"Números do intervalo entre {numero1} e {numero2}:\")\n",
        "for i in range(numero1,numero2+1,1):\n",
        "  print(i)"
      ],
      "metadata": {
        "id": "Yg6cYOM1vZQu",
        "colab": {
          "base_uri": "https://localhost:8080/"
        },
        "outputId": "9a054e28-2b8a-4930-8687-e186e7900786"
      },
      "execution_count": null,
      "outputs": [
        {
          "output_type": "stream",
          "name": "stdout",
          "text": [
            "Digite o primeiro número:10\n",
            "Digite o segundo número:20\n",
            "Números do intervalo entre 10 e 20:\n",
            "10\n",
            "11\n",
            "12\n",
            "13\n",
            "14\n",
            "15\n",
            "16\n",
            "17\n",
            "18\n",
            "19\n",
            "20\n"
          ]
        }
      ]
    },
    {
      "cell_type": "markdown",
      "source": [
        "Faça um programa que leia um nome de usuário e a sua senha e não aceite a senha igual ao nome do usuário, mostrando uma mensagem de erro e voltando a pedir as informações. As informações devem ser solicitadas enquanto o usuário digitar as informações incorretas."
      ],
      "metadata": {
        "id": "S9IlM-ONvZY7"
      }
    },
    {
      "cell_type": "code",
      "source": [
        "print(\"Criando uma conta...\")\n",
        "sair = 0\n",
        "while(sair == False):\n",
        "  nome = input(\"Digite um nome de usuário:\")\n",
        "  senha = input(\"Digite uma senha:\")\n",
        "  if nome != senha:\n",
        "    sair = True\n",
        "    print(\"Conta criada com sucesso!\")\n",
        "  elif nome == senha:\n",
        "    print(\"Nome do usuário e senha não podem ser iguais!!!\")\n",
        "  "
      ],
      "metadata": {
        "id": "dJSTfWFUvbPO",
        "colab": {
          "base_uri": "https://localhost:8080/"
        },
        "outputId": "759cd1ec-b40a-49f2-d5b0-3de51bc8a6b4"
      },
      "execution_count": null,
      "outputs": [
        {
          "output_type": "stream",
          "name": "stdout",
          "text": [
            "Criando uma conta...\n",
            "Digite um nome de usuário:a\n",
            "Digite uma senha:a\n",
            "Nome do usuário e senha não podem ser iguais!!!\n",
            "Digite um nome de usuário:a\n",
            "Digite uma senha:b\n",
            "Conta criada com sucesso!\n"
          ]
        }
      ]
    },
    {
      "cell_type": "markdown",
      "source": [
        "Faça um programa que leia 5 números e informe a soma e a média dos números."
      ],
      "metadata": {
        "id": "_dHEmr2pvbW7"
      }
    },
    {
      "cell_type": "code",
      "source": [
        "soma = 0\n",
        "for i in range(1,6,1):\n",
        "  numeros = int(input(f\"Digite o {i} número:\"))\n",
        "  soma += numeros\n",
        "media = soma / 5\n",
        "print(f\"A soma dos números é: {soma} \\nA média dos números é: {media}\")"
      ],
      "metadata": {
        "id": "140pKhkxvczg",
        "colab": {
          "base_uri": "https://localhost:8080/"
        },
        "outputId": "b175d4f7-d9b5-415e-c033-ef4860e0d942"
      },
      "execution_count": null,
      "outputs": [
        {
          "output_type": "stream",
          "name": "stdout",
          "text": [
            "Digite o 1 número:1\n",
            "Digite o 2 número:1\n",
            "Digite o 3 número:1\n",
            "Digite o 4 número:1\n",
            "Digite o 5 número:1\n",
            "A soma dos números é: 5 \n",
            "A média dos números é: 1.0\n"
          ]
        }
      ]
    },
    {
      "cell_type": "markdown",
      "source": [
        "Vamos ajudar uma criança a aprender a tabuada. Faça um programa que solicite um número de 1 a 9, e em seguida mostre a tabuada desse número. Ex. Dada a entrada 5 seu programa deve mostrar:\n",
        "*\t5 x 1 = 5\n",
        "*\t5 x 2 = 10\n",
        "*\t...\n"
      ],
      "metadata": {
        "id": "KDrNFFOBvc-H"
      }
    },
    {
      "cell_type": "code",
      "source": [
        "print(\"Consultando a tabuada:\")\n",
        "sair = False\n",
        "while(sair == False):\n",
        "  numero = int(input(\"Digite um número de 1 a 9:\"))\n",
        "  if numero >= 1 and numero <= 9:\n",
        "    for i in range(1,11,1):\n",
        "      resultado = numero * i\n",
        "      print(f\"{numero}X{i}={resultado}\")\n",
        "      sair = True\n",
        "  else:\n",
        "    print(\"Número inválido!\")"
      ],
      "metadata": {
        "id": "PQbctqIPvfPB",
        "colab": {
          "base_uri": "https://localhost:8080/"
        },
        "outputId": "fa7cf04a-43e0-4dfa-b9dc-2215c7101346"
      },
      "execution_count": null,
      "outputs": [
        {
          "output_type": "stream",
          "name": "stdout",
          "text": [
            "Consultando a tabuada:\n",
            "Digite um número de 1 a 9:3\n",
            "3X1=3\n",
            "3X2=6\n",
            "3X3=9\n",
            "3X4=12\n",
            "3X5=15\n",
            "3X6=18\n",
            "3X7=21\n",
            "3X8=24\n",
            "3X9=27\n",
            "3X10=30\n"
          ]
        }
      ]
    },
    {
      "cell_type": "markdown",
      "source": [
        "Você como programador foi convidado a desenvolver um sistema da panificadora São José. Essa panificadora adota uma política de preços de desconto progressivo. o Cálculo do valor da unidade de pão é de R$0,18 de 1 a 10 pães, R$0,16 de 11 a 20 pães, R$0,13 de 21 a 30 pães, R$0,09 a partir de de 31 pães. Faça um algoritmo que receba a quantidade de pães desejada e calcule o preço total da compra. Mostre a resposta da seguinte forma:\n",
        "* 1 unidade(s): R$0,x\n",
        "* 2 unidade(s): R$0,2x\n",
        "* …\n",
        "* Valor total: R$ x, x\n"
      ],
      "metadata": {
        "id": "n91iGFrYvfYg"
      }
    },
    {
      "cell_type": "code",
      "source": [
        "paes = int(input(\"Digite a quantidade de pães:\"))\n",
        "fator1 = 0.18 \n",
        "fator2 = 0.16 \n",
        "fator3 = 0.13 \n",
        "fator4 = 0.09\n",
        "if paes >=1 and paes <= 10:\n",
        "  for i in range(1,paes+1,1):\n",
        "    valor = fator1 * i \n",
        "    print(f\"{i} unidade(s): R${fator1} X {i} = R${round(valor,2)}\")\n",
        "  valor_total = fator1 * paes\n",
        "  print(f\"Valor total: R${round(valor_total,2)}\")\n",
        "elif paes >=11 and paes <= 20:\n",
        "  for i in range(1,paes+1,1):\n",
        "    valor = fator2 * i \n",
        "    print(f\"{i} unidade(s): R${fator2} X {i} = R${round(valor,2)}\")\n",
        "  valor_total = fator2 * paes\n",
        "  print(f\"Valor total: R${round(valor_total,2)}\")\n",
        "elif paes >=21 and paes <= 30:\n",
        "  for i in range(1,paes+1,1):\n",
        "    valor = fator3 * i \n",
        "    print(f\"{i} unidade(s): R${fator3} X {i} = R${round(valor,2)}\")\n",
        "  valor_total = fator3 * paes\n",
        "  print(f\"Valor total: R${round(valor_total,2)}\")\n",
        "elif paes >= 31:\n",
        "  for i in range(1,paes+1,1):\n",
        "    valor = fator4 * i \n",
        "    print(f\"{i} unidade(s): R${fator4} X {i} = R${round(valor,2)}\")\n",
        "  valor_total = fator4 * paes\n",
        "  print(f\"Valor total: R${round(valor_total,2)}\")"
      ],
      "metadata": {
        "id": "xhlo8tnuvois",
        "colab": {
          "base_uri": "https://localhost:8080/"
        },
        "outputId": "cb04600a-d018-4188-dc12-e4c739d2fe4c"
      },
      "execution_count": null,
      "outputs": [
        {
          "output_type": "stream",
          "name": "stdout",
          "text": [
            "Digite a quantidade de pães:31\n",
            "1 unidade(s): R$0.09 X 1 = R$0.09\n",
            "2 unidade(s): R$0.09 X 2 = R$0.18\n",
            "3 unidade(s): R$0.09 X 3 = R$0.27\n",
            "4 unidade(s): R$0.09 X 4 = R$0.36\n",
            "5 unidade(s): R$0.09 X 5 = R$0.45\n",
            "6 unidade(s): R$0.09 X 6 = R$0.54\n",
            "7 unidade(s): R$0.09 X 7 = R$0.63\n",
            "8 unidade(s): R$0.09 X 8 = R$0.72\n",
            "9 unidade(s): R$0.09 X 9 = R$0.81\n",
            "10 unidade(s): R$0.09 X 10 = R$0.9\n",
            "11 unidade(s): R$0.09 X 11 = R$0.99\n",
            "12 unidade(s): R$0.09 X 12 = R$1.08\n",
            "13 unidade(s): R$0.09 X 13 = R$1.17\n",
            "14 unidade(s): R$0.09 X 14 = R$1.26\n",
            "15 unidade(s): R$0.09 X 15 = R$1.35\n",
            "16 unidade(s): R$0.09 X 16 = R$1.44\n",
            "17 unidade(s): R$0.09 X 17 = R$1.53\n",
            "18 unidade(s): R$0.09 X 18 = R$1.62\n",
            "19 unidade(s): R$0.09 X 19 = R$1.71\n",
            "20 unidade(s): R$0.09 X 20 = R$1.8\n",
            "21 unidade(s): R$0.09 X 21 = R$1.89\n",
            "22 unidade(s): R$0.09 X 22 = R$1.98\n",
            "23 unidade(s): R$0.09 X 23 = R$2.07\n",
            "24 unidade(s): R$0.09 X 24 = R$2.16\n",
            "25 unidade(s): R$0.09 X 25 = R$2.25\n",
            "26 unidade(s): R$0.09 X 26 = R$2.34\n",
            "27 unidade(s): R$0.09 X 27 = R$2.43\n",
            "28 unidade(s): R$0.09 X 28 = R$2.52\n",
            "29 unidade(s): R$0.09 X 29 = R$2.61\n",
            "30 unidade(s): R$0.09 X 30 = R$2.7\n",
            "31 unidade(s): R$0.09 X 31 = R$2.79\n",
            "Valor total: R$2.79\n"
          ]
        }
      ]
    },
    {
      "cell_type": "markdown",
      "source": [
        "Vamos fazer um jogo. Defina um número secreto. Em seguida, solicite um número ao usuário. Caso o usuário acerte, exiba a mensagem “Parabéns! Você acertou.” Caso o valor digitado seja menor que o número secreto, exiba “Ainda não. Escolha um número maior”. Caso o valor digitado seja maior, exiba a mensagem “Ainda não. Escolha um número menor.” . O jogo só termina quando o usuário acertar o número secreto. Use a função random.randint(1, 21) para gerar um número aleatório entre 1 e 20."
      ],
      "metadata": {
        "id": "o6IFrjaDvooq"
      }
    },
    {
      "cell_type": "code",
      "source": [
        "import random\n",
        "numero_secreto = random.randint(1,21)\n",
        "sair = False\n",
        "while sair == False:\n",
        "  numero = int(input(\"Digite um número:\"))\n",
        "  if numero == numero_secreto:\n",
        "    sair = True\n",
        "    print(\"Parabéns! Você acertou.\")\n",
        "  elif numero > numero_secreto:\n",
        "    print(\"Ainda não. Escolha um número menor.\")\n",
        "  elif numero < numero_secreto:\n",
        "    print(\"Ainda não. Escolha um número maior.\")"
      ],
      "metadata": {
        "id": "oDAIx2h-vsyr",
        "colab": {
          "base_uri": "https://localhost:8080/"
        },
        "outputId": "d912aa9a-8cd8-4b5b-f5ca-29bdc4901e82"
      },
      "execution_count": null,
      "outputs": [
        {
          "output_type": "stream",
          "name": "stdout",
          "text": [
            "Digite um número:1\n",
            "Ainda não. Escolha um número maior.\n",
            "Digite um número:2\n",
            "Ainda não. Escolha um número maior.\n",
            "Digite um número:3\n",
            "Ainda não. Escolha um número maior.\n",
            "Digite um número:10\n",
            "Ainda não. Escolha um número maior.\n",
            "Digite um número:19\n",
            "Ainda não. Escolha um número menor.\n",
            "Digite um número:15\n",
            "Ainda não. Escolha um número menor.\n",
            "Digite um número:14\n",
            "Ainda não. Escolha um número menor.\n",
            "Digite um número:13\n",
            "Parabéns! Você acertou.\n"
          ]
        }
      ]
    },
    {
      "cell_type": "markdown",
      "source": [
        "Faça um programa que solicite ao usuário 10 números inteiros. Em seguida informe o menor deles."
      ],
      "metadata": {
        "id": "YAvx5bfQvs5H"
      }
    },
    {
      "cell_type": "code",
      "source": [
        "menor = 99999999999999999999999999999999999999999999999999999999\n",
        "for i in range(1,11,1):\n",
        "  numeros = int(input(f\"Digite o {i} número:\"))\n",
        "  if numeros < menor:\n",
        "    menor = numeros\n",
        "print(f\"O menor número é: {menor}\")   "
      ],
      "metadata": {
        "id": "e1xLG784vvJK",
        "colab": {
          "base_uri": "https://localhost:8080/"
        },
        "outputId": "c118c632-3b9e-4162-e532-96890cbf9275"
      },
      "execution_count": null,
      "outputs": [
        {
          "output_type": "stream",
          "name": "stdout",
          "text": [
            "Digite o 1 número:1000\n",
            "Digite o 2 número:100\n",
            "Digite o 3 número:50\n",
            "Digite o 4 número:40\n",
            "Digite o 5 número:30\n",
            "Digite o 6 número:1\n",
            "Digite o 7 número:20\n",
            "Digite o 8 número:9\n",
            "Digite o 9 número:8\n",
            "Digite o 10 número:7\n",
            "O menor número é: 1\n"
          ]
        }
      ]
    },
    {
      "cell_type": "markdown",
      "source": [
        "Faça um programa que solicite ao usuário 10 números inteiros. Em seguida informe o maior deles."
      ],
      "metadata": {
        "id": "PTK9GqUIvvUX"
      }
    },
    {
      "cell_type": "code",
      "source": [
        "maior = 0\n",
        "for i in range(1,11,1):\n",
        "  numeros = int(input(f\"Digite o {i} número:\"))\n",
        "  if numeros > maior:\n",
        "    maior = numeros\n",
        "print(f\"O maior número é: {maior}\") "
      ],
      "metadata": {
        "id": "c3wR69r1vwvx",
        "colab": {
          "base_uri": "https://localhost:8080/"
        },
        "outputId": "2c36fbc2-faea-49d2-e106-9fc4fa11b8ee"
      },
      "execution_count": null,
      "outputs": [
        {
          "output_type": "stream",
          "name": "stdout",
          "text": [
            "Digite o 1 número:20\n",
            "Digite o 2 número:30\n",
            "Digite o 3 número:1000000000\n",
            "Digite o 4 número:50\n",
            "Digite o 5 número:60\n",
            "Digite o 6 número:70\n",
            "Digite o 7 número:2000000000000000\n",
            "Digite o 8 número:50\n",
            "Digite o 9 número:200\n",
            "Digite o 10 número:10\n",
            "O maior número é: 2000000000000000\n"
          ]
        }
      ]
    },
    {
      "cell_type": "markdown",
      "source": [
        "Um atleta olímpico de salto participou das olimpíadas do brasil e fez um total de 5 saltos. Faça um programa que solicite a distância atingida pelo atleta em cada salto e exiba: O tamanho médio dos saltos, o menor salto e o maior salto."
      ],
      "metadata": {
        "id": "PrIIMoeevw4C"
      }
    },
    {
      "cell_type": "code",
      "source": [
        "maior = 0\n",
        "menor = 99999999999999999999999999999999999999\n",
        "soma = 0\n",
        "for i in range(1,6,1):\n",
        "  saltos = float(input(f\"Digite a distancia do {i} salto:\"))\n",
        "  soma += saltos\n",
        "  if saltos < menor:\n",
        "    menor = saltos\n",
        "  elif saltos > maior:\n",
        "    maior = saltos\n",
        "media = soma / 5\n",
        "print(f\"O tamanho médio dos saltos: {media} \\nO menor salto: {menor} \\nO maior salto: {maior}\")"
      ],
      "metadata": {
        "id": "hqpu2MskvyK3",
        "colab": {
          "base_uri": "https://localhost:8080/"
        },
        "outputId": "75e14891-a8e1-451e-ba46-02afd73618b1"
      },
      "execution_count": null,
      "outputs": [
        {
          "output_type": "stream",
          "name": "stdout",
          "text": [
            "Digite a distancia do 1 salto:1.1\n",
            "Digite a distancia do 2 salto:1.5\n",
            "Digite a distancia do 3 salto:1.99\n",
            "Digite a distancia do 4 salto:1.0\n",
            "Digite a distancia do 5 salto:1.3\n",
            "O tamanho médio dos saltos: 1.378 \n",
            "O menor salto: 1.0 \n",
            "O maior salto: 1.99\n"
          ]
        }
      ]
    }
  ]
}
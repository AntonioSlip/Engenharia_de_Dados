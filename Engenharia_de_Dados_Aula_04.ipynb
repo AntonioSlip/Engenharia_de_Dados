{
  "nbformat": 4,
  "nbformat_minor": 0,
  "metadata": {
    "colab": {
      "name": "Engenharia_de_Dados_Aula 04.ipynb",
      "provenance": [],
      "collapsed_sections": [],
      "include_colab_link": true
    },
    "kernelspec": {
      "name": "python3",
      "display_name": "Python 3"
    },
    "language_info": {
      "name": "python"
    }
  },
  "cells": [
    {
      "cell_type": "markdown",
      "metadata": {
        "id": "view-in-github",
        "colab_type": "text"
      },
      "source": [
        "<a href=\"https://colab.research.google.com/github/AntonioSlip/Engenharia_de_Dados/blob/main/Engenharia_de_Dados_Aula_04.ipynb\" target=\"_parent\"><img src=\"https://colab.research.google.com/assets/colab-badge.svg\" alt=\"Open In Colab\"/></a>"
      ]
    },
    {
      "cell_type": "markdown",
      "source": [
        "# ATIVIDADE DE OPERAÇÕES BÁSICAS DE LISTAS"
      ],
      "metadata": {
        "id": "fCtXc34VCEl7"
      }
    },
    {
      "cell_type": "markdown",
      "source": [
        "Crie uma lista chamada ‘numeros’ contendo os números de 0 a 10;"
      ],
      "metadata": {
        "id": "ogaAVsMpAfSx"
      }
    },
    {
      "cell_type": "code",
      "execution_count": null,
      "metadata": {
        "id": "FqSYYQZDASfD",
        "colab": {
          "base_uri": "https://localhost:8080/"
        },
        "outputId": "4cf20fc0-7417-4c85-f94e-3c1acdba5b70"
      },
      "outputs": [
        {
          "output_type": "stream",
          "name": "stdout",
          "text": [
            "[0, 1, 2, 3, 4, 5, 6, 7, 8, 9, 10]\n"
          ]
        }
      ],
      "source": [
        "numeros = []\n",
        "for i in range(0,11,1):\n",
        "  numeros.append(i)\n",
        "print(numeros)"
      ]
    },
    {
      "cell_type": "markdown",
      "source": [
        "Imprima na tela o tamanho da lista usando o comando print( );"
      ],
      "metadata": {
        "id": "heU_N6lWAg_B"
      }
    },
    {
      "cell_type": "code",
      "source": [
        "print(f\"Tamanho da lista: {len(numeros)}\")"
      ],
      "metadata": {
        "id": "fzUTGV2qAj_j",
        "colab": {
          "base_uri": "https://localhost:8080/"
        },
        "outputId": "c2294466-a6c9-4ca4-bb08-08b824a60438"
      },
      "execution_count": null,
      "outputs": [
        {
          "output_type": "stream",
          "name": "stdout",
          "text": [
            "Tamanho da lista: 11\n"
          ]
        }
      ]
    },
    {
      "cell_type": "markdown",
      "source": [
        "Crie uma lista com 4 nomes quaisquer;\n"
      ],
      "metadata": {
        "id": "Geu1eFRFAkHP"
      }
    },
    {
      "cell_type": "code",
      "source": [
        "nomes = [\"Antonio\", \"Paulo\", \"João\", \"Pedro\"]"
      ],
      "metadata": {
        "id": "QPmCE6sGAmnR"
      },
      "execution_count": null,
      "outputs": []
    },
    {
      "cell_type": "markdown",
      "source": [
        "Imprima na tela os 4 nomes da lista que você criou usando a estrutura ‘for’.\n"
      ],
      "metadata": {
        "id": "5N5rMYrJAnJr"
      }
    },
    {
      "cell_type": "code",
      "source": [
        "for i in nomes:\n",
        "  print(i)"
      ],
      "metadata": {
        "id": "744u8cMkApGU",
        "colab": {
          "base_uri": "https://localhost:8080/"
        },
        "outputId": "c0130d93-4b27-4944-e303-cac9fdd66007"
      },
      "execution_count": null,
      "outputs": [
        {
          "output_type": "stream",
          "name": "stdout",
          "text": [
            "Antonio\n",
            "Paulo\n",
            "João\n",
            "Pedro\n"
          ]
        }
      ]
    },
    {
      "cell_type": "markdown",
      "source": [
        "Copie esta lista: [1, “teste”, 8.67, 90, “casa”, ‘a’, 12.34, 1, 0, “bola”, False, 23, “hello”] para uma variável chamada  ‘diversos’. Em seguida, informe na tela a mensagem: “O tamanho dessa lista é ____”. (Obs. caso você copie e o VScode acuse erro, digite as aspas novamente)."
      ],
      "metadata": {
        "id": "GyPK_mqPAp5_"
      }
    },
    {
      "cell_type": "code",
      "source": [
        "diversos = [1, \"teste\", 8.67, 90, \"casa\", \"a\", 12.34, 1, 0, \"bola\", False, 23, \"hello\"]\n",
        "print(f\"O tamanho dessa lista é {len(diversos)}\")"
      ],
      "metadata": {
        "id": "yDHZcH_PAsZf",
        "colab": {
          "base_uri": "https://localhost:8080/"
        },
        "outputId": "4af7ac63-fc4c-416e-c539-09d319f1102e"
      },
      "execution_count": null,
      "outputs": [
        {
          "output_type": "stream",
          "name": "stdout",
          "text": [
            "O tamanho dessa lista é 13\n"
          ]
        }
      ]
    },
    {
      "cell_type": "markdown",
      "source": [
        "Com a lista acima em seu editor de códigos, imprimia na tela todos os itens dessa lista. (Use o ‘for’)"
      ],
      "metadata": {
        "id": "THeAV3f_AuFk"
      }
    },
    {
      "cell_type": "code",
      "source": [
        "for i in diversos:\n",
        "  print(i)"
      ],
      "metadata": {
        "id": "BDJt6TqjAw1w",
        "colab": {
          "base_uri": "https://localhost:8080/"
        },
        "outputId": "53fe6c64-ddea-43b4-f168-9d1273c7434c"
      },
      "execution_count": null,
      "outputs": [
        {
          "output_type": "stream",
          "name": "stdout",
          "text": [
            "1\n",
            "teste\n",
            "8.67\n",
            "90\n",
            "casa\n",
            "a\n",
            "12.34\n",
            "1\n",
            "0\n",
            "bola\n",
            "False\n",
            "23\n",
            "hello\n"
          ]
        }
      ]
    },
    {
      "cell_type": "markdown",
      "source": [
        "Ainda com a mesma lista acima, imprima os tipos dos dados de todos os itens dessa lista. (Obs. Pesquise rapidamente como saber o tipo de um dado em python usando a função type( ))"
      ],
      "metadata": {
        "id": "USg4ByPUAw9y"
      }
    },
    {
      "cell_type": "code",
      "source": [
        "for i in diversos:\n",
        "  print(f\"{i,type(i)}\")"
      ],
      "metadata": {
        "id": "tV_I94KgAzNo",
        "colab": {
          "base_uri": "https://localhost:8080/"
        },
        "outputId": "f92ee5e1-7c0f-4efb-8f95-14228eabea23"
      },
      "execution_count": null,
      "outputs": [
        {
          "output_type": "stream",
          "name": "stdout",
          "text": [
            "(1, <class 'int'>)\n",
            "('teste', <class 'str'>)\n",
            "(8.67, <class 'float'>)\n",
            "(90, <class 'int'>)\n",
            "('casa', <class 'str'>)\n",
            "('a', <class 'str'>)\n",
            "(12.34, <class 'float'>)\n",
            "(1, <class 'int'>)\n",
            "(0, <class 'int'>)\n",
            "('bola', <class 'str'>)\n",
            "(False, <class 'bool'>)\n",
            "(23, <class 'int'>)\n",
            "('hello', <class 'str'>)\n"
          ]
        }
      ]
    },
    {
      "cell_type": "markdown",
      "source": [
        "Com a lista acima, acesse diretamente o item 7, e imprima na tela a mensagem: “O elemento ____ é do tipo ____”;"
      ],
      "metadata": {
        "id": "JEYPR13GAzTR"
      }
    },
    {
      "cell_type": "code",
      "source": [
        "print(f\"O elemento {diversos[6]} é do tipo {type(diversos[6])}\")"
      ],
      "metadata": {
        "id": "IeObkkeOA1ch",
        "colab": {
          "base_uri": "https://localhost:8080/"
        },
        "outputId": "dd9dba7d-2596-44a6-f980-829e5d995748"
      },
      "execution_count": null,
      "outputs": [
        {
          "output_type": "stream",
          "name": "stdout",
          "text": [
            "O elemento 12.34 é do tipo <class 'float'>\n"
          ]
        }
      ]
    },
    {
      "cell_type": "markdown",
      "source": [
        "Imprima a lista ‘diversos’ na tela, em seguida atribua o valor “hello world” ao item 4. Imprima a lista inteira novamente. (Para atribuir um valor em um item específico de uma lista use lista[indice] = valor) ;"
      ],
      "metadata": {
        "id": "TsZwkIDSA1kP"
      }
    },
    {
      "cell_type": "code",
      "source": [
        "print(diversos)\n",
        "diversos[3] = \"hello world\"\n",
        "print(diversos)"
      ],
      "metadata": {
        "colab": {
          "base_uri": "https://localhost:8080/"
        },
        "id": "u9wRM0ioolJl",
        "outputId": "2733ea11-e95f-41e9-f239-a4187ef06f9a"
      },
      "execution_count": null,
      "outputs": [
        {
          "output_type": "stream",
          "name": "stdout",
          "text": [
            "[1, 'teste', 8.67, 90, 'casa', 'a', 12.34, 1, 0, 'bola', False, 23, 'hello']\n",
            "[1, 'teste', 8.67, 'hello world', 'casa', 'a', 12.34, 1, 0, 'bola', False, 23, 'hello']\n"
          ]
        }
      ]
    },
    {
      "cell_type": "markdown",
      "source": [
        "# PRINCIPAIS MÉTODOS EM  LISTAS"
      ],
      "metadata": {
        "id": "WhUXhSJUA4tt"
      }
    },
    {
      "cell_type": "markdown",
      "source": [
        "Crie uma lista vazia. Em seguida utilize o método append( ) para adicionar 4 elementos;"
      ],
      "metadata": {
        "id": "20HoqDGIA74P"
      }
    },
    {
      "cell_type": "code",
      "source": [
        "lista = []\n",
        "print(lista)\n",
        "lista.append(1)\n",
        "lista.append(10)\n",
        "lista.append(100)\n",
        "lista.append(1000)\n",
        "print(lista)"
      ],
      "metadata": {
        "id": "ue4WMmY-A9yZ",
        "colab": {
          "base_uri": "https://localhost:8080/"
        },
        "outputId": "85bd03c7-24ab-4004-cbeb-4a9527681275"
      },
      "execution_count": null,
      "outputs": [
        {
          "output_type": "stream",
          "name": "stdout",
          "text": [
            "[]\n",
            "[1, 10, 100, 1000]\n"
          ]
        }
      ]
    },
    {
      "cell_type": "markdown",
      "source": [
        "Crie um ‘for’ que varie no intervalo de 1 a 10. Em seguida adicione cada número desses em uma lista criada previamente."
      ],
      "metadata": {
        "id": "OYvEFGiuA97K"
      }
    },
    {
      "cell_type": "code",
      "source": [
        "lista = []\n",
        "for i in range(1,11,1):\n",
        "  lista.append(i)\n",
        "print(lista)"
      ],
      "metadata": {
        "id": "sE1il7XeBAwZ",
        "colab": {
          "base_uri": "https://localhost:8080/"
        },
        "outputId": "f4074b38-4952-4f3e-b699-b1ed03eb0bff"
      },
      "execution_count": null,
      "outputs": [
        {
          "output_type": "stream",
          "name": "stdout",
          "text": [
            "[1, 2, 3, 4, 5, 6, 7, 8, 9, 10]\n"
          ]
        }
      ]
    },
    {
      "cell_type": "markdown",
      "source": [
        "Crie um algoritmo que solicite ao usuário 3 nomes. Adicione os nomes a uma lista. Em seguida, imprima um a um esses nomes na tela."
      ],
      "metadata": {
        "id": "LmTVae7fBA4f"
      }
    },
    {
      "cell_type": "code",
      "source": [
        "nomes = []\n",
        "for i in range(1,4,1):\n",
        "  nome = input(f\"Digite o {i} nome:\")\n",
        "  nomes.append(nome)\n",
        "print(f\"{nomes[0]}\")\n",
        "print(f\"{nomes[1]}\")\n",
        "print(f\"{nomes[2]}\")"
      ],
      "metadata": {
        "id": "sFcI_tT4BDUP",
        "colab": {
          "base_uri": "https://localhost:8080/"
        },
        "outputId": "b04ca54d-dd50-4f55-927c-827b4c31e855"
      },
      "execution_count": null,
      "outputs": [
        {
          "output_type": "stream",
          "name": "stdout",
          "text": [
            "Digite o 1 nome:a\n",
            "Digite o 2 nome:b\n",
            "Digite o 3 nome:v\n",
            "a\n",
            "b\n",
            "v\n"
          ]
        }
      ]
    },
    {
      "cell_type": "markdown",
      "source": [
        "Crie e nomeie a lista [1, 2, 3, 4] no seu editor de texto. Em seguida insira o valor 0 no início da lista e o valor 5 no final da lista;"
      ],
      "metadata": {
        "id": "RdZ4p_g_BDa8"
      }
    },
    {
      "cell_type": "code",
      "source": [
        "numeros = [1, 2, 3, 4]\n",
        "print(numeros)\n",
        "numeros.insert(0,0)\n",
        "numeros.append(5)\n",
        "print(numeros)"
      ],
      "metadata": {
        "id": "gPym_SbwBF8I",
        "colab": {
          "base_uri": "https://localhost:8080/"
        },
        "outputId": "2b5905ae-f858-46c9-d193-e52615fa3a69"
      },
      "execution_count": null,
      "outputs": [
        {
          "output_type": "stream",
          "name": "stdout",
          "text": [
            "[1, 2, 3, 4]\n",
            "[0, 1, 2, 3, 4, 5]\n"
          ]
        }
      ]
    },
    {
      "cell_type": "markdown",
      "source": [
        "Com a mesma lista acima, remova o item ‘3’, e insira em seu lugar o texto ‘hello’\n"
      ],
      "metadata": {
        "id": "Nq8gkyqsBGDg"
      }
    },
    {
      "cell_type": "code",
      "source": [
        "numeros = [1, 2, 3, 4]\n",
        "print(numeros)\n",
        "del numeros[2]\n",
        "numeros.insert(2,\"hello\")\n",
        "print(numeros)"
      ],
      "metadata": {
        "id": "YPSlFG9XBH8q",
        "colab": {
          "base_uri": "https://localhost:8080/"
        },
        "outputId": "f862fac5-227c-4409-fe4d-b175429b1ed0"
      },
      "execution_count": null,
      "outputs": [
        {
          "output_type": "stream",
          "name": "stdout",
          "text": [
            "[1, 2, 3, 4]\n",
            "[1, 2, 'hello', 4]\n"
          ]
        }
      ]
    },
    {
      "cell_type": "markdown",
      "source": [
        "Crie um laço que permaneça executando enquanto o usuário digitar um número diferente de 0. A cada valor diferente de zero imprima “Você digitou ___” e adicione esse valor a uma lista. No final quando o usuário digitar 0, imprimia, “Você digitou 0, o programa foi encerrado”. E imprima a lista com todos os números digitados pelo usuário."
      ],
      "metadata": {
        "id": "AMd_XhRkBIDq"
      }
    },
    {
      "cell_type": "code",
      "source": [
        "lista = []\n",
        "sair = False\n",
        "while sair == False:\n",
        "  numeros = int(input(\"Digite um número:\"))\n",
        "  if numeros != 0:\n",
        "    print(f\"Você digitou {numeros}\")\n",
        "    lista.append(numeros)\n",
        "  elif numeros == 0:\n",
        "    sair = True\n",
        "    print(f\"Você digitou {numeros}, o programa foi encerrado. \\n{lista}\")\n",
        "    "
      ],
      "metadata": {
        "id": "Dc16w7sjBLGH",
        "colab": {
          "base_uri": "https://localhost:8080/"
        },
        "outputId": "20d02707-da2f-4b36-cefa-615d0308634a"
      },
      "execution_count": null,
      "outputs": [
        {
          "output_type": "stream",
          "name": "stdout",
          "text": [
            "Digite um número:1\n",
            "Você digitou 1\n",
            "Digite um número:2\n",
            "Você digitou 2\n",
            "Digite um número:0\n",
            "Você digitou 0, o programa foi encerrado. \n",
            "[1, 2]\n"
          ]
        }
      ]
    },
    {
      "cell_type": "markdown",
      "source": [
        "Crie uma lista contendo todos os números pares entre 0 e 20 e adicione todos em uma lista chamada ‘pares’. Em seguida, use o método pop( ) e remova o elemento no índice 4 e mostre a mensagem: “O elemento 4 é o ____”."
      ],
      "metadata": {
        "id": "SXF7N3_tBLS7"
      }
    },
    {
      "cell_type": "code",
      "source": [
        "pares = []\n",
        "for i in range(0,21,1):\n",
        "  if i % 2 == 0:\n",
        "    pares.append(i)\n",
        "print(pares)\n",
        "retorne = pares.pop(4)\n",
        "print(f\"O elemento 4 é o {retorne} \\n{pares}\")"
      ],
      "metadata": {
        "id": "H4KS-fEABNT8",
        "colab": {
          "base_uri": "https://localhost:8080/"
        },
        "outputId": "89f0c001-82c8-409e-b4a1-27e0fba1da5a"
      },
      "execution_count": null,
      "outputs": [
        {
          "output_type": "stream",
          "name": "stdout",
          "text": [
            "[0, 2, 4, 6, 8, 10, 12, 14, 16, 18, 20]\n",
            "O elemento 4 é o 8 \n",
            "[0, 2, 4, 6, 10, 12, 14, 16, 18, 20]\n"
          ]
        }
      ]
    },
    {
      "cell_type": "markdown",
      "source": [
        "Crie uma lista chamada nomes, contendo 5 nomes quaisquer. Em seguida, extraia uma sub-lista contendo do segundo ao quarto nome. "
      ],
      "metadata": {
        "id": "7bW8AB4ABNb4"
      }
    },
    {
      "cell_type": "code",
      "source": [
        "nomes = []\n",
        "for i in range(1,6,1):\n",
        "  nome = input(f\"Digite o {i} nome:\")\n",
        "  nomes.append(nome)\n",
        "print(nomes)\n",
        "print(nomes[1:4])"
      ],
      "metadata": {
        "id": "tVeNowozBPiB",
        "colab": {
          "base_uri": "https://localhost:8080/"
        },
        "outputId": "173eb7ca-f774-4484-d9c4-82afdb293a7f"
      },
      "execution_count": null,
      "outputs": [
        {
          "output_type": "stream",
          "name": "stdout",
          "text": [
            "Digite o 1 nome:antonio\n",
            "Digite o 2 nome:pedro\n",
            "Digite o 3 nome:joão\n",
            "Digite o 4 nome:gabriel\n",
            "Digite o 5 nome:paulo\n",
            "['antonio', 'pedro', 'joão', 'gabriel', 'paulo']\n",
            "['pedro', 'joão', 'gabriel']\n"
          ]
        }
      ]
    },
    {
      "cell_type": "markdown",
      "source": [
        "Solicite ao usuário que informe 10 números inteiros. Armazene em uma lista. Em seguida, imprima a lista ordenada de forma crescente e também decrescente."
      ],
      "metadata": {
        "id": "bxW9L9wKBPx1"
      }
    },
    {
      "cell_type": "code",
      "source": [
        "lista = []\n",
        "for i in range(1,11,1):\n",
        "  numeros = int(input(f\"Digite o {i} número:\"))\n",
        "  lista.append(numeros)\n",
        "print(f\"Lista = {lista}\")\n",
        "lista.sort(reverse=False)\n",
        "print(f\"Lista Crescente = {lista}\")\n",
        "lista.sort(reverse=True)\n",
        "print(f\"Lista Decrescente = {lista}\")"
      ],
      "metadata": {
        "id": "nRuVTVdZBR-s",
        "colab": {
          "base_uri": "https://localhost:8080/"
        },
        "outputId": "150cca18-c795-4ffd-89e6-6941eeebf0ba"
      },
      "execution_count": null,
      "outputs": [
        {
          "output_type": "stream",
          "name": "stdout",
          "text": [
            "Digite o 1 número:99\n",
            "Digite o 2 número:1\n",
            "Digite o 3 número:20\n",
            "Digite o 4 número:5\n",
            "Digite o 5 número:8\n",
            "Digite o 6 número:9\n",
            "Digite o 7 número:11\n",
            "Digite o 8 número:3\n",
            "Digite o 9 número:2\n",
            "Digite o 10 número:7\n",
            "Lista = [99, 1, 20, 5, 8, 9, 11, 3, 2, 7]\n",
            "Lista Crescente = [1, 2, 3, 5, 7, 8, 9, 11, 20, 99]\n",
            "Lista Decrescente = [99, 20, 11, 9, 8, 7, 5, 3, 2, 1]\n"
          ]
        }
      ]
    },
    {
      "cell_type": "markdown",
      "source": [
        "Utilizando listas, faça um programa que faça 5 perguntas para uma pessoa sobre um crime. O usuário deve digitar 0 para não e 1 para sim. As perguntas são:\n",
        "\n",
        "* \"Telefonou para a vítima?\"\n",
        "* \"Esteve no local do crime?\"\n",
        "* \"Mora perto da vítima?\"\n",
        "* \"Devia para a vítima?\"\n",
        "* \"Já trabalhou com a vítima?\" \n",
        "\n",
        "O programa deve no final emitir uma classificação sobre a participação da pessoa no crime. \n",
        "Se a pessoa responder positivamente a 2 questões ela deve ser classificada como \"Suspeita\", entre 3 e 4 como \"Cúmplice\" e 5 como \"Assassino\". Caso contrário, ele será classificado como \"Inocente\". Utilize a estrutura:\n",
        "\n",
        "perguntas = [\"Telefonou para a vítima?\", \"Esteve no local do crime?\", \"Mora perto da vítima?\",  \"Devia para a vítima?\", \"Já trabalhou com a vítima?\" ]\n",
        "respostas = [ ]"
      ],
      "metadata": {
        "id": "YIdcDkg8BSLe"
      }
    },
    {
      "cell_type": "code",
      "source": [
        "perguntas = [\"Telefonou para a vítima?\", \"Esteve no local do crime?\", \"Mora perto da vítima?\", \"Devia para a vítima?\", \"Já trabalhou com a vítima?\"] \n",
        "respostas = []\n",
        "for i in perguntas:\n",
        "  resposta = int(input(f\"{i}(Digite 0(não) ou 1(sim)):\"))\n",
        "  if resposta == 0:\n",
        "    respostas.append(\"não\")\n",
        "  elif resposta == 1:\n",
        "    respostas.append(\"sim\")\n",
        "print(f\"Respostas = {respostas}\")\n",
        "sim = respostas.count(\"sim\")\n",
        "if sim == 2:\n",
        "  print(\"Classificação: Suspeita!\")\n",
        "elif sim == 3 or sim == 4:\n",
        "  print(\"Classificação: Cúmplice!\")\n",
        "elif sim == 5:\n",
        "  print(\"Classificação: Assassino!\")\n",
        "else:\n",
        "  print(\"Classificação: Inocente!\")"
      ],
      "metadata": {
        "id": "8kQ1PPqTBhpK",
        "colab": {
          "base_uri": "https://localhost:8080/"
        },
        "outputId": "ce613c88-aa77-4297-f4ec-63ad7d38dbf1"
      },
      "execution_count": null,
      "outputs": [
        {
          "output_type": "stream",
          "name": "stdout",
          "text": [
            "Telefonou para a vítima?(Digite 0(não) ou 1(sim)):1\n",
            "Esteve no local do crime?(Digite 0(não) ou 1(sim)):1\n",
            "Mora perto da vítima?(Digite 0(não) ou 1(sim)):1\n",
            "Devia para a vítima?(Digite 0(não) ou 1(sim)):1\n",
            "Já trabalhou com a vítima?(Digite 0(não) ou 1(sim)):1\n",
            "Respostas = ['sim', 'sim', 'sim', 'sim', 'sim']\n",
            "Classificação: Assassino!\n"
          ]
        }
      ]
    },
    {
      "cell_type": "markdown",
      "source": [
        "# PRINCIPAIS OPERAÇÕES COM TUPLAS\n"
      ],
      "metadata": {
        "id": "4GupfkJ4BjpU"
      }
    },
    {
      "cell_type": "markdown",
      "source": [
        "Declare uma tupla vazia , uma contendo 5 nomes a sua escolha e uma contendo um único email."
      ],
      "metadata": {
        "id": "mzMaERwsBlIE"
      }
    },
    {
      "cell_type": "code",
      "source": [
        "tupla_vazia = ()\n",
        "tupla_nomes = \"Antonio\", \"João\", \"Matheus\", \"Paulo\", \"Erick\"\n",
        "tupla_email = \"antonio@hotmail.com\",\n",
        "print(f\"Tupla_vazia = {tupla_vazia} \\nTupla_nomes = {tupla_nomes} \\nTupla_email = {tupla_email}\")"
      ],
      "metadata": {
        "id": "fkiPQeqlBnqJ",
        "colab": {
          "base_uri": "https://localhost:8080/"
        },
        "outputId": "adf2c6c8-83bb-42d5-8b3a-fbf12448138b"
      },
      "execution_count": null,
      "outputs": [
        {
          "output_type": "stream",
          "name": "stdout",
          "text": [
            "Tupla_vazia = () \n",
            "Tupla_nomes = ('Antonio', 'João', 'Matheus', 'Paulo', 'Erick') \n",
            "Tupla_email = ('antonio@hotmail.com',)\n"
          ]
        }
      ]
    },
    {
      "cell_type": "markdown",
      "source": [
        "Imprima a tupla inteira, e em seguida use um for para imprimir o nome que escolheu e o índice que ele se encontra na tupla. Ex. “O nome ___ está armazenado no índice ___”"
      ],
      "metadata": {
        "id": "t8IwPNXCBnyl"
      }
    },
    {
      "cell_type": "code",
      "source": [
        "tupla_nomes = \"Antonio\", \"João\", \"Matheus\", \"Paulo\", \"Erick\"\n",
        "for i in tupla_nomes:\n",
        "  print(f\"O nome {i} está armazenado no índice {tupla_nomes.index(i)}\")"
      ],
      "metadata": {
        "id": "HmvIxlhRBp6A",
        "colab": {
          "base_uri": "https://localhost:8080/"
        },
        "outputId": "16fccc44-8a05-4d7f-b8ce-3314c073c1c2"
      },
      "execution_count": null,
      "outputs": [
        {
          "output_type": "stream",
          "name": "stdout",
          "text": [
            "O nome Antonio está armazenado no índice 0\n",
            "O nome João está armazenado no índice 1\n",
            "O nome Matheus está armazenado no índice 2\n",
            "O nome Paulo está armazenado no índice 3\n",
            "O nome Erick está armazenado no índice 4\n"
          ]
        }
      ]
    },
    {
      "cell_type": "markdown",
      "source": [
        "                **ou**"
      ],
      "metadata": {
        "id": "yhSbViVWy1YG"
      }
    },
    {
      "cell_type": "code",
      "source": [
        "tupla_nomes = \"Antonio\", \"João\", \"Matheus\", \"Paulo\", \"Erick\"\n",
        "for i in range(0,len(tupla_nomes),1):\n",
        "  print(f\"O nome {tupla_nomes[i]} está armazenado no índice {i}\")"
      ],
      "metadata": {
        "colab": {
          "base_uri": "https://localhost:8080/"
        },
        "id": "_KI14XEdy0qm",
        "outputId": "a1255c80-0021-47e4-eebf-18e2131b329c"
      },
      "execution_count": null,
      "outputs": [
        {
          "output_type": "stream",
          "name": "stdout",
          "text": [
            "O nome Antonio está armazenado no índice 0\n",
            "O nome João está armazenado no índice 1\n",
            "O nome Matheus está armazenado no índice 2\n",
            "O nome Paulo está armazenado no índice 3\n",
            "O nome Erick está armazenado no índice 4\n"
          ]
        }
      ]
    },
    {
      "cell_type": "markdown",
      "source": [
        "Utilizando tuplas, faça uma atribuição com múltiplas variáveis, use nome, login e e-mail. Em seguida imprima em prints separados as três variáveis."
      ],
      "metadata": {
        "id": "i7RS6n3jBqBq"
      }
    },
    {
      "cell_type": "code",
      "source": [
        "nome, login, email = \"Antonio\", \"antonioslip\", \"antonio@hotmail.com\"\n",
        "print(nome)\n",
        "print(login)\n",
        "print(email)"
      ],
      "metadata": {
        "id": "sUiMqpxHBs31",
        "colab": {
          "base_uri": "https://localhost:8080/"
        },
        "outputId": "07504699-df92-4b53-e31f-34c722d99ac7"
      },
      "execution_count": null,
      "outputs": [
        {
          "output_type": "stream",
          "name": "stdout",
          "text": [
            "Antonio\n",
            "antonioslip\n",
            "antonio@hotmail.com\n"
          ]
        }
      ]
    },
    {
      "cell_type": "markdown",
      "source": [
        "Dada a seguinte tupla: (“José”, 35, 1.78, “jose@email.com”). Faça o desempacotamento dessa tupla em variáveis individuais. Escolhas nomes coerentes com o problema."
      ],
      "metadata": {
        "id": "qjiGctgeBtFV"
      }
    },
    {
      "cell_type": "code",
      "source": [
        "tupla = \"José\", 35, 1.78, \"jose@email.com\"\n",
        "nome, peso, altura, email = tupla\n",
        "print(f\"Nome: {nome} \\nPeso: {peso}Kg \\nAltura: {altura}m \\nE-mail: {email}\")"
      ],
      "metadata": {
        "id": "5NYaWDANBuzC",
        "colab": {
          "base_uri": "https://localhost:8080/"
        },
        "outputId": "a076311b-19d7-4a5d-9653-3c4ee14abfd4"
      },
      "execution_count": null,
      "outputs": [
        {
          "output_type": "stream",
          "name": "stdout",
          "text": [
            "Nome: José \n",
            "Peso: 35Kg \n",
            "Altura: 1.78m \n",
            "E-mail: jose@email.com\n"
          ]
        }
      ]
    },
    {
      "cell_type": "markdown",
      "source": [
        "# VAMOS UNIR OS CONHECIMENTOS\n"
      ],
      "metadata": {
        "id": "_n3t0uYXBu8K"
      }
    },
    {
      "cell_type": "markdown",
      "source": [
        "Elaborar um algoritmo que solicite os seguintes dados de três usuários: nome, email e telefone. Em seguida armazene esses valores em uma tupla."
      ],
      "metadata": {
        "id": "g-0Wds-7Byrx"
      }
    },
    {
      "cell_type": "code",
      "source": [
        "usuario1 = ()\n",
        "usuario2 = ()\n",
        "usuario3 = ()\n",
        "nome1 = input(\"Digite seu nome:\")\n",
        "email1 = input(\"Digite seu email:\")\n",
        "telefone1 = input(\"Digite seu telefone:\")\n",
        "usuario1 = nome1, email1, telefone1\n",
        "nome2 = input(\"Digite seu nome:\")\n",
        "email2 = input(\"Digite seu email:\")\n",
        "telefone2 = input(\"Digite seu telefone:\")\n",
        "usuario2 = nome2, email2, telefone2\n",
        "nome3 = input(\"Digite seu nome:\")\n",
        "email3 = input(\"Digite seu email:\")\n",
        "telefone3 = input(\"Digite seu telefone:\")\n",
        "usuario3 = nome3, email3, telefone3\n",
        "print(f\"Usuário_1 = {usuario1} \\nUsuário_2 = {usuario2} \\nUsuário_3 = {usuario3}\")"
      ],
      "metadata": {
        "id": "47JXC5i6ByXl",
        "colab": {
          "base_uri": "https://localhost:8080/"
        },
        "outputId": "791436a9-a0b2-4f52-f260-27bde86ac105"
      },
      "execution_count": null,
      "outputs": [
        {
          "output_type": "stream",
          "name": "stdout",
          "text": [
            "Digite seu nome:antonio\n",
            "Digite seu email:antonio@email.com\n",
            "Digite seu telefone:81999999999\n",
            "Digite seu nome:carlos\n",
            "Digite seu email:carlos@email.com\n",
            "Digite seu telefone:81888888888\n",
            "Digite seu nome:pedro\n",
            "Digite seu email:pedro@email.com\n",
            "Digite seu telefone:81777777777\n",
            "Usuário_1 = ('antonio', 'antonio@email.com', '81999999999') \n",
            "Usuário_2 = ('carlos', 'carlos@email.com', '81888888888') \n",
            "Usuário_3 = ('pedro', 'pedro@email.com', '81777777777')\n"
          ]
        }
      ]
    },
    {
      "cell_type": "markdown",
      "source": [
        "                          **OU**\n"
      ],
      "metadata": {
        "id": "wwMpcB3caqCX"
      }
    },
    {
      "cell_type": "code",
      "source": [
        "usuario1 = ()\n",
        "usuario2 = ()\n",
        "usuario3 = ()\n",
        "for i in range(0,3,1):\n",
        "  nome = input(\"Digite seu nome:\")\n",
        "  email = input(\"Digite seu email:\")\n",
        "  telefone = input(\"Digite seu telefone:\")\n",
        "  if len(usuario1) == 0:\n",
        "    usuario1 = nome, email, telefone\n",
        "  elif len(usuario1) > 0 and len(usuario2) == 0:\n",
        "    usuario2 = nome, email, telefone\n",
        "  elif len(usuario1) > 0 and len(usuario2) > 0:\n",
        "    usuario3 = nome, email, telefone\n",
        "print(f\"Usuário_1 = {usuario1} \\nUsuário_2 = {usuario2} \\nUsuário_3 = {usuario3}\")"
      ],
      "metadata": {
        "colab": {
          "base_uri": "https://localhost:8080/"
        },
        "id": "DOGGKW0bViG4",
        "outputId": "5e8f50dc-4423-4b67-87e1-26bee68db4a7"
      },
      "execution_count": null,
      "outputs": [
        {
          "output_type": "stream",
          "name": "stdout",
          "text": [
            "Digite seu nome:antonio\n",
            "Digite seu email:antonio@email.com\n",
            "Digite seu telefone:81999999999\n",
            "Digite seu nome:carlos\n",
            "Digite seu email:carlos@email.com\n",
            "Digite seu telefone:81888888888\n",
            "Digite seu nome:pedro\n",
            "Digite seu email:pedro@email.com\n",
            "Digite seu telefone:81777777777\n",
            "Usuário_1 = ('antonio', 'antonio@email.com', '81999999999') \n",
            "Usuário_2 = ('carlos', 'carlos@email.com', '81888888888') \n",
            "Usuário_3 = ('pedro', 'pedro@email.com', '81777777777')\n"
          ]
        }
      ]
    },
    {
      "cell_type": "markdown",
      "source": [
        "Elabore um algoritmo que solicite a três  usuários os seguintes dados: nome, login e senha. Primeiro insira esses dados em uma tupla. Depois insira cada tupla em uma lista. Por fim, percorra toda lista, desempacotando cada tupla e mostrando a seguinte mensagem para cada usuário: “O usuário ___ foi cadastrado com sucesso. Login: ___ e Senha: ___”."
      ],
      "metadata": {
        "id": "Upwsy-lkB2hW"
      }
    },
    {
      "cell_type": "code",
      "source": [
        "usuario1 = ()\n",
        "usuario2 = ()\n",
        "usuario3 = ()\n",
        "lista = []\n",
        "nome1 = input(\"Digite seu nome:\")\n",
        "login1 = input(\"Crie um login:\")\n",
        "senha1 = input(\"Crie uma senha:\")\n",
        "usuario1 = nome1, login1, senha1\n",
        "lista.append(usuario1)\n",
        "nome2 = input(\"Digite seu nome:\")\n",
        "login2 = input(\"Crie um login:\")\n",
        "senha2 = input(\"Crie uma senha:\")\n",
        "usuario2 = nome2, login2, senha2\n",
        "lista.append(usuario2)\n",
        "nome3 = input(\"Digite seu nome:\")\n",
        "login3 = input(\"Crie um login:\")\n",
        "senha3 = input(\"Crie uma senha:\")\n",
        "usuario3 = nome3, login3, senha3\n",
        "lista.append(usuario3)\n",
        "for i in lista:\n",
        "  nome, login, senha = i\n",
        "  print(f\"O usuário {nome} foi cadastrado com sucesso. Login: {login} e Senha: {senha}\")"
      ],
      "metadata": {
        "id": "ogYBvtD4B4Qn",
        "colab": {
          "base_uri": "https://localhost:8080/"
        },
        "outputId": "4b797683-b297-4aed-a7ea-6f8598fd1041"
      },
      "execution_count": null,
      "outputs": [
        {
          "output_type": "stream",
          "name": "stdout",
          "text": [
            "Digite seu nome:antonio\n",
            "Crie um login:slip\n",
            "Crie uma senha:777\n",
            "Digite seu nome:pedro\n",
            "Crie um login:mick\n",
            "Crie uma senha:555\n",
            "Digite seu nome:carlos\n",
            "Crie um login:joey\n",
            "Crie uma senha:888\n",
            "O usuário antonio foi cadastrado com sucesso. Login: slip e Senha: 777\n",
            "O usuário pedro foi cadastrado com sucesso. Login: mick e Senha: 555\n",
            "O usuário carlos foi cadastrado com sucesso. Login: joey e Senha: 888\n"
          ]
        }
      ]
    },
    {
      "cell_type": "markdown",
      "source": [
        "                    **ou**"
      ],
      "metadata": {
        "id": "DJvD_hCcdbHA"
      }
    },
    {
      "cell_type": "code",
      "source": [
        "usuario1 = ()\n",
        "usuario2 = ()\n",
        "usuario3 = ()\n",
        "lista = []\n",
        "for i in range(0,3,1):\n",
        "  nome = input(\"Digite seu nome:\")\n",
        "  login = input(\"Crie um login:\")\n",
        "  senha = input(\"Crie uma senha:\")\n",
        "  if len(usuario1) == 0:\n",
        "    usuario1 = nome, login, senha\n",
        "    lista.append(usuario1)\n",
        "  elif len(usuario1) > 0 and len(usuario2) == 0:\n",
        "    usuario2 = nome, login, senha\n",
        "    lista.append(usuario2)\n",
        "  elif len(usuario1) > 0 and len(usuario2) > 0:\n",
        "    usuario3 = nome, login, senha\n",
        "    lista.append(usuario3)\n",
        "for i in lista:\n",
        "  nome, login, senha = i\n",
        "  print(f\"O usuário {nome} foi cadastrado com sucesso. Login: {login} e Senha: {senha}\")"
      ],
      "metadata": {
        "colab": {
          "base_uri": "https://localhost:8080/"
        },
        "id": "gd99wjXYdfAN",
        "outputId": "44c8a64a-934a-46ae-e00d-1b0dcbcc1851"
      },
      "execution_count": null,
      "outputs": [
        {
          "output_type": "stream",
          "name": "stdout",
          "text": [
            "Digite seu nome:antonio\n",
            "Crie um login:slip\n",
            "Crie uma senha:777\n",
            "Digite seu nome:pedro\n",
            "Crie um login:mick\n",
            "Crie uma senha:555\n",
            "Digite seu nome:carlos\n",
            "Crie um login:joey\n",
            "Crie uma senha:888\n",
            "O usuário antonio foi cadastrado com sucesso. Login: slip e Senha: 777\n",
            "O usuário pedro foi cadastrado com sucesso. Login: mick e Senha: 555\n",
            "O usuário carlos foi cadastrado com sucesso. Login: joey e Senha: 888\n"
          ]
        }
      ]
    },
    {
      "cell_type": "markdown",
      "source": [
        "Elaborar um algoritmo que solicite de 3 usuários, nome, altura e peso. Armazena esses valores em uma tupla, mas adicione nesta tupla o resultado do IMC deste usuário. Em outro for, percorra a lista e indique para cada usuário sua situação corporal conforme legenda: <18 abaixo do peso, entre 18 e 25 peso ideal, 26 a 30 sobre-peso, acima de 30 obeso."
      ],
      "metadata": {
        "id": "PF171t0aB4X0"
      }
    },
    {
      "cell_type": "code",
      "source": [
        "usuario1 = ()\n",
        "usuario2 = ()\n",
        "usuario3 = ()\n",
        "lista = []\n",
        "nome1 = input(\"Digite seu nome:\")\n",
        "altura1 = float(input(\"Digite sua altura:\"))\n",
        "peso1 = float(input(\"Digite seu peso:\"))\n",
        "imc1 = peso1 / altura1**2\n",
        "usuario1 = nome1, altura1, peso1, round(imc1)\n",
        "lista.append(usuario1)\n",
        "nome2 = input(\"Digite seu nome:\")\n",
        "altura2 = float(input(\"Digite sua altura:\"))\n",
        "peso2 = float(input(\"Digite seu peso:\"))\n",
        "imc2 = peso2 / altura2**2\n",
        "usuario2 = nome2, altura2, peso2, round(imc2)\n",
        "lista.append(usuario2)\n",
        "nome3 = input(\"Digite seu nome:\")\n",
        "altura3 = float(input(\"Digite sua altura:\"))\n",
        "peso3 = float(input(\"Digite seu peso:\"))\n",
        "imc3 = peso3 / altura3**2\n",
        "usuario3 = nome3, altura3, peso3, round(imc3)\n",
        "lista.append(usuario3)\n",
        "for i in lista:\n",
        "  nome, altura, peso, imc = i\n",
        "  if imc < 18:\n",
        "    print(f\"O usuário {nome}, de IMC {imc}, está Abaixo do Peso!\")\n",
        "  elif imc >= 18 and imc <= 25:\n",
        "    print(f\"O usuário {nome}, de IMC {imc}, está no Peso Ideal!\")\n",
        "  elif imc >= 26 and imc <= 30:\n",
        "    print(f\"O usuário {nome}, de IMC {imc}, está Sobre-Peso!\")\n",
        "  elif imc > 30:\n",
        "    print(f\"O usuário {nome}, de IMC {imc}, está Obeso!\")"
      ],
      "metadata": {
        "id": "KhmCDWbJB6Pu",
        "colab": {
          "base_uri": "https://localhost:8080/"
        },
        "outputId": "d8f07690-7fc3-45c1-ff65-f3ec5fe67361"
      },
      "execution_count": null,
      "outputs": [
        {
          "output_type": "stream",
          "name": "stdout",
          "text": [
            "Digite seu nome:antonio\n",
            "Digite sua altura:1.77\n",
            "Digite seu peso:100\n",
            "Digite seu nome:pedro\n",
            "Digite sua altura:1.66\n",
            "Digite seu peso:50\n",
            "Digite seu nome:paulo\n",
            "Digite sua altura:1.89\n",
            "Digite seu peso:90\n",
            "O usuário antonio, de IMC 32, está Obeso!\n",
            "O usuário pedro, de IMC 18, está no Peso Ideal!\n",
            "O usuário paulo, de IMC 25, está no Peso Ideal!\n"
          ]
        }
      ]
    },
    {
      "cell_type": "markdown",
      "source": [
        "                    **ou**"
      ],
      "metadata": {
        "id": "Hq8WfvZmgDEC"
      }
    },
    {
      "cell_type": "code",
      "source": [
        "usuario1 = ()\n",
        "usuario2 = ()\n",
        "usuario3 = ()\n",
        "lista = []\n",
        "for i in range(0,3,1):\n",
        "  nome = input(\"Digite seu nome:\")\n",
        "  altura = float(input(\"Digite sua altura:\"))\n",
        "  peso = float(input(\"Digite seu peso:\"))\n",
        "  imc = peso / altura**2\n",
        "  if len(usuario1) == 0:\n",
        "    usuario1 = nome, altura, peso, round(imc)\n",
        "    lista.append(usuario1)\n",
        "  elif len(usuario1) > 0 and len(usuario2) == 0:\n",
        "    usuario2 = nome, altura, peso, round(imc)\n",
        "    lista.append(usuario2)\n",
        "  elif len(usuario1) > 0 and len(usuario2) > 0:\n",
        "    usuario3 = nome, altura, peso, round(imc)\n",
        "    lista.append(usuario3)\n",
        "for i in lista:\n",
        "  nome, altura, peso, imc = i\n",
        "  if imc < 18:\n",
        "    print(f\"O usuário {nome}, de IMC {imc}, está Abaixo do Peso!\")\n",
        "  elif imc >= 18 and imc <= 25:\n",
        "    print(f\"O usuário {nome}, de IMC {imc}, está no Peso Ideal!\")\n",
        "  elif imc >= 26 and imc <= 30:\n",
        "    print(f\"O usuário {nome}, de IMC {imc}, está Sobre-Peso!\")\n",
        "  elif imc > 30:\n",
        "    print(f\"O usuário {nome}, de IMC {imc}, está Obeso!\")"
      ],
      "metadata": {
        "colab": {
          "base_uri": "https://localhost:8080/"
        },
        "id": "f4NTIpKcgJfz",
        "outputId": "e112710c-30cf-4823-8e36-500015a323fc"
      },
      "execution_count": null,
      "outputs": [
        {
          "output_type": "stream",
          "name": "stdout",
          "text": [
            "Digite seu nome:antonio\n",
            "Digite sua altura:1.77\n",
            "Digite seu peso:100\n",
            "Digite seu nome:pedro\n",
            "Digite sua altura:1.66\n",
            "Digite seu peso:50\n",
            "Digite seu nome:paulo\n",
            "Digite sua altura:1.89\n",
            "Digite seu peso:90\n",
            "O usuário antonio, de IMC 32, está Obeso!\n",
            "O usuário pedro, de IMC 18, está no Peso Ideal!\n",
            "O usuário paulo, de IMC 25, está no Peso Ideal!\n"
          ]
        }
      ]
    },
    {
      "cell_type": "markdown",
      "source": [
        "Crie um algoritmo que leia o resultado de cada uma das 10 questões do usuário em uma prova. O usuário irá informar 1 se ele acertou e -1 se ele errou. Adicione cada uma das respostas em uma lista de respostas. Em outro for percorra a lista somando as notas  e depois mostre a mensagem: “Nota final ___” (Lembre do conceito de acumulador)"
      ],
      "metadata": {
        "id": "CCvIUrObB6W6"
      }
    },
    {
      "cell_type": "code",
      "source": [
        "perguntas = [\"Questão_1:\",\"Questão_2:\",\"Questão_3:\",\"Questão_4:\",\"Questão_5:\",\"Questão_6:\",\"Questão_7:\",\"Questão_8:\",\"Questão_9:\",\"Questão_10:\"]\n",
        "respostas = []\n",
        "nota_final = 0\n",
        "for i in perguntas:\n",
        "  resposta = int(input(f\"{i}(Digite 1(Acertou) ou -1(Errou)):\"))\n",
        "  if resposta == 1:\n",
        "    respostas.append(resposta)\n",
        "  elif resposta == -1:\n",
        "    respostas.append(resposta)\n",
        "print(f\"Respostas = {respostas}\")\n",
        "for i in respostas:\n",
        "  nota_final += i\n",
        "print(f\"Nota Final = {nota_final}\")"
      ],
      "metadata": {
        "id": "Z1ABcx5nB8be",
        "colab": {
          "base_uri": "https://localhost:8080/"
        },
        "outputId": "6cc3f6df-04c8-4584-f537-223886d6ccda"
      },
      "execution_count": null,
      "outputs": [
        {
          "output_type": "stream",
          "name": "stdout",
          "text": [
            "Questão_1:(Digite 1(Acertou) ou -1(Errou)):1\n",
            "Questão_2:(Digite 1(Acertou) ou -1(Errou)):1\n",
            "Questão_3:(Digite 1(Acertou) ou -1(Errou)):1\n",
            "Questão_4:(Digite 1(Acertou) ou -1(Errou)):1\n",
            "Questão_5:(Digite 1(Acertou) ou -1(Errou)):1\n",
            "Questão_6:(Digite 1(Acertou) ou -1(Errou)):1\n",
            "Questão_7:(Digite 1(Acertou) ou -1(Errou)):1\n",
            "Questão_8:(Digite 1(Acertou) ou -1(Errou)):1\n",
            "Questão_9:(Digite 1(Acertou) ou -1(Errou)):-1\n",
            "Questão_10:(Digite 1(Acertou) ou -1(Errou)):-1\n",
            "Respostas = [1, 1, 1, 1, 1, 1, 1, 1, -1, -1]\n",
            "Nota Final = 6\n"
          ]
        }
      ]
    }
  ]
}